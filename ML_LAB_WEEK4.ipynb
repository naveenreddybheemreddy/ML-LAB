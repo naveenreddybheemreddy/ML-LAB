{
  "nbformat": 4,
  "nbformat_minor": 0,
  "metadata": {
    "colab": {
      "provenance": []
    },
    "kernelspec": {
      "name": "python3",
      "display_name": "Python 3"
    },
    "language_info": {
      "name": "python"
    }
  },
  "cells": [
    {
      "cell_type": "code",
      "execution_count": 1,
      "metadata": {
        "colab": {
          "base_uri": "https://localhost:8080/"
        },
        "id": "ml9EjImn4VTw",
        "outputId": "70406a99-700b-496c-b5d2-7bb3c4f12fa2"
      },
      "outputs": [
        {
          "output_type": "stream",
          "name": "stdout",
          "text": [
            "Requirement already satisfied: pyspark in /usr/local/lib/python3.11/dist-packages (3.5.1)\n",
            "Requirement already satisfied: py4j==0.10.9.7 in /usr/local/lib/python3.11/dist-packages (from pyspark) (0.10.9.7)\n"
          ]
        }
      ],
      "source": [
        "!pip install pyspark"
      ]
    },
    {
      "cell_type": "code",
      "source": [
        "from pyspark.sql import SparkSession\n",
        "\n",
        "spark = SparkSession \\\n",
        "    .builder \\\n",
        "    .appName(\"Python Spark SQL basic example\") \\\n",
        "    .config(\"spark.some.config.option\", \"some-value\") \\\n",
        "    .getOrCreate()"
      ],
      "metadata": {
        "id": "JchUu5Ov4vW1"
      },
      "execution_count": 2,
      "outputs": []
    },
    {
      "cell_type": "code",
      "source": [
        "!pip3 install pyspark\n"
      ],
      "metadata": {
        "colab": {
          "base_uri": "https://localhost:8080/"
        },
        "id": "BB5zeQvn5cG1",
        "outputId": "7a69a36c-da49-49c8-d0e1-bc9e9e2ef9e2"
      },
      "execution_count": 3,
      "outputs": [
        {
          "output_type": "stream",
          "name": "stdout",
          "text": [
            "Requirement already satisfied: pyspark in /usr/local/lib/python3.11/dist-packages (3.5.1)\n",
            "Requirement already satisfied: py4j==0.10.9.7 in /usr/local/lib/python3.11/dist-packages (from pyspark) (0.10.9.7)\n"
          ]
        }
      ]
    },
    {
      "cell_type": "code",
      "source": [
        "import pyspark\n",
        "from pyspark.sql import SparkSession\n",
        "\n",
        "spark = SparkSession.builder.appName(\"Tutorial1_CN7030\") \\\n",
        "                            .master(\"local[*]\")\\\n",
        "                            .config(\"spark.some.config.option\", \"some-value\") \\\n",
        "                            .getOrCreate()"
      ],
      "metadata": {
        "id": "HybxSeI25kBW"
      },
      "execution_count": 4,
      "outputs": []
    },
    {
      "cell_type": "code",
      "source": [
        "# PySpark DataFrame with Explicit Schema\n",
        "df = spark.createDataFrame([\n",
        "    (1, 87.0, 'Mike', 'math', 'passed'),\n",
        "    (2, 60.5, 'Mike', 'computing', 'failed'),\n",
        "    (3, 20.8, 'Mina', 'networking', 'passed'),\n",
        "    (4, 41.0, 'Emmy', 'math', 'failed'),\n",
        "    (5, 39.0, 'Alex', 'computing', 'failed'),\n",
        "    (6, 55.8, 'Alex', 'AI', 'passed'),\n",
        "    (7, 74.0, 'Emmy', 'AI', 'passed'),\n",
        "    ], schema = 'ID int, Mark double, Name string, Lesson string, Status string')\n",
        "\n",
        "# show table\n",
        "df.show()\n",
        "\n",
        "# show schema\n",
        "df.printSchema()"
      ],
      "metadata": {
        "colab": {
          "base_uri": "https://localhost:8080/"
        },
        "id": "ZpHLiUBV5x-U",
        "outputId": "d25d0016-8af0-4a81-8521-5d955c389c93"
      },
      "execution_count": 5,
      "outputs": [
        {
          "output_type": "stream",
          "name": "stdout",
          "text": [
            "+---+----+----+----------+------+\n",
            "| ID|Mark|Name|    Lesson|Status|\n",
            "+---+----+----+----------+------+\n",
            "|  1|87.0|Mike|      math|passed|\n",
            "|  2|60.5|Mike| computing|failed|\n",
            "|  3|20.8|Mina|networking|passed|\n",
            "|  4|41.0|Emmy|      math|failed|\n",
            "|  5|39.0|Alex| computing|failed|\n",
            "|  6|55.8|Alex|        AI|passed|\n",
            "|  7|74.0|Emmy|        AI|passed|\n",
            "+---+----+----+----------+------+\n",
            "\n",
            "root\n",
            " |-- ID: integer (nullable = true)\n",
            " |-- Mark: double (nullable = true)\n",
            " |-- Name: string (nullable = true)\n",
            " |-- Lesson: string (nullable = true)\n",
            " |-- Status: string (nullable = true)\n",
            "\n"
          ]
        }
      ]
    },
    {
      "cell_type": "code",
      "source": [
        "import numpy as np\n",
        "import pandas as pd\n",
        "df_pandas = pd.DataFrame(np.random.randint(0,200,size=(100000, 5)), columns=list('ABCDE'))"
      ],
      "metadata": {
        "id": "ooUpcxJO53iU"
      },
      "execution_count": 6,
      "outputs": []
    },
    {
      "cell_type": "code",
      "source": [
        "df2 = spark.createDataFrame(df_pandas)\n",
        "\n",
        "# show table\n",
        "df2.show()\n",
        "\n",
        "# show schema\n",
        "df2.printSchema()"
      ],
      "metadata": {
        "colab": {
          "base_uri": "https://localhost:8080/"
        },
        "id": "QAPLn6yL6Grs",
        "outputId": "a8fc78b5-f752-4c93-8b0d-22c9d30083d0"
      },
      "execution_count": 29,
      "outputs": [
        {
          "output_type": "stream",
          "name": "stdout",
          "text": [
            "+---+---+---+---+---+\n",
            "|  A|  B|  C|  D|  E|\n",
            "+---+---+---+---+---+\n",
            "|199| 66| 98| 18|108|\n",
            "| 59|  3|147| 30| 38|\n",
            "|160| 25|141| 18| 88|\n",
            "|106|147|164|133|122|\n",
            "|166|184| 96|136| 48|\n",
            "| 87|105| 51| 82|117|\n",
            "| 24|181|185|100|198|\n",
            "|  7|119| 96|100|195|\n",
            "| 16| 22|168|136|166|\n",
            "|162|174|180|147| 18|\n",
            "|  0|117| 41|193|121|\n",
            "|112|161|179|109|194|\n",
            "|122| 56|142|123|109|\n",
            "| 27|152|146|  6| 29|\n",
            "|145|147| 88|156|107|\n",
            "| 65| 60|104| 77|172|\n",
            "| 59|183| 53|157|128|\n",
            "|196|161| 10| 28|114|\n",
            "|175| 73| 86|157|193|\n",
            "|170| 46|157| 98|198|\n",
            "+---+---+---+---+---+\n",
            "only showing top 20 rows\n",
            "\n",
            "root\n",
            " |-- A: long (nullable = true)\n",
            " |-- B: long (nullable = true)\n",
            " |-- C: long (nullable = true)\n",
            " |-- D: long (nullable = true)\n",
            " |-- E: long (nullable = true)\n",
            "\n"
          ]
        }
      ]
    },
    {
      "cell_type": "code",
      "source": [
        "print(df2.count())"
      ],
      "metadata": {
        "colab": {
          "base_uri": "https://localhost:8080/"
        },
        "id": "poSeqdxV6PMU",
        "outputId": "a6b66bc4-eaa2-491f-f684-bcb371bfd567"
      },
      "execution_count": 8,
      "outputs": [
        {
          "output_type": "stream",
          "name": "stdout",
          "text": [
            "100000\n"
          ]
        }
      ]
    },
    {
      "cell_type": "code",
      "source": [
        "print(\"rows in df\",df.count())\n",
        "df.show()\n",
        "\n",
        "print(\"rows in df1\",df1.count())\n",
        "\n",
        "df1.show()\n",
        "df3 = df1.union(df)\n",
        "print(\"rows in df3\")\n",
        "print(df3.count())\n",
        "df3.show()\n",
        "print(\"showing the data frame from the bottom\")\n",
        "df3.tail(7)"
      ],
      "metadata": {
        "colab": {
          "base_uri": "https://localhost:8080/"
        },
        "id": "GLuu3FHX6m9z",
        "outputId": "e4c8da0d-320d-498a-8908-30daa6f4f26f"
      },
      "execution_count": 15,
      "outputs": [
        {
          "output_type": "stream",
          "name": "stdout",
          "text": [
            "rows in df 7\n",
            "+---+----+----+----------+------+\n",
            "| ID|Mark|Name|    Lesson|Status|\n",
            "+---+----+----+----------+------+\n",
            "|  1|87.0|Mike|      math|passed|\n",
            "|  2|60.5|Mike| computing|failed|\n",
            "|  3|20.8|Mina|networking|passed|\n",
            "|  4|41.0|Emmy|      math|failed|\n",
            "|  5|39.0|Alex| computing|failed|\n",
            "|  6|55.8|Alex|        AI|passed|\n",
            "|  7|74.0|Emmy|        AI|passed|\n",
            "+---+----+----+----------+------+\n",
            "\n",
            "rows in df1 100000\n",
            "+---+---+---+---+---+\n",
            "|  A|  B|  C|  D|  E|\n",
            "+---+---+---+---+---+\n",
            "|199| 66| 98| 18|108|\n",
            "| 59|  3|147| 30| 38|\n",
            "|160| 25|141| 18| 88|\n",
            "|106|147|164|133|122|\n",
            "|166|184| 96|136| 48|\n",
            "| 87|105| 51| 82|117|\n",
            "| 24|181|185|100|198|\n",
            "|  7|119| 96|100|195|\n",
            "| 16| 22|168|136|166|\n",
            "|162|174|180|147| 18|\n",
            "|  0|117| 41|193|121|\n",
            "|112|161|179|109|194|\n",
            "|122| 56|142|123|109|\n",
            "| 27|152|146|  6| 29|\n",
            "|145|147| 88|156|107|\n",
            "| 65| 60|104| 77|172|\n",
            "| 59|183| 53|157|128|\n",
            "|196|161| 10| 28|114|\n",
            "|175| 73| 86|157|193|\n",
            "|170| 46|157| 98|198|\n",
            "+---+---+---+---+---+\n",
            "only showing top 20 rows\n",
            "\n",
            "rows in df3\n",
            "100007\n",
            "+---+-----+---+---+---+\n",
            "|  A|    B|  C|  D|  E|\n",
            "+---+-----+---+---+---+\n",
            "|199| 66.0| 98| 18|108|\n",
            "| 59|  3.0|147| 30| 38|\n",
            "|160| 25.0|141| 18| 88|\n",
            "|106|147.0|164|133|122|\n",
            "|166|184.0| 96|136| 48|\n",
            "| 87|105.0| 51| 82|117|\n",
            "| 24|181.0|185|100|198|\n",
            "|  7|119.0| 96|100|195|\n",
            "| 16| 22.0|168|136|166|\n",
            "|162|174.0|180|147| 18|\n",
            "|  0|117.0| 41|193|121|\n",
            "|112|161.0|179|109|194|\n",
            "|122| 56.0|142|123|109|\n",
            "| 27|152.0|146|  6| 29|\n",
            "|145|147.0| 88|156|107|\n",
            "| 65| 60.0|104| 77|172|\n",
            "| 59|183.0| 53|157|128|\n",
            "|196|161.0| 10| 28|114|\n",
            "|175| 73.0| 86|157|193|\n",
            "|170| 46.0|157| 98|198|\n",
            "+---+-----+---+---+---+\n",
            "only showing top 20 rows\n",
            "\n",
            "showing the data frame from the bottom\n"
          ]
        },
        {
          "output_type": "execute_result",
          "data": {
            "text/plain": [
              "[Row(A=1, B=87.0, C='Mike', D='math', E='passed'),\n",
              " Row(A=2, B=60.5, C='Mike', D='computing', E='failed'),\n",
              " Row(A=3, B=20.8, C='Mina', D='networking', E='passed'),\n",
              " Row(A=4, B=41.0, C='Emmy', D='math', E='failed'),\n",
              " Row(A=5, B=39.0, C='Alex', D='computing', E='failed'),\n",
              " Row(A=6, B=55.8, C='Alex', D='AI', E='passed'),\n",
              " Row(A=7, B=74.0, C='Emmy', D='AI', E='passed')]"
            ]
          },
          "metadata": {},
          "execution_count": 15
        }
      ]
    },
    {
      "cell_type": "code",
      "source": [],
      "metadata": {
        "colab": {
          "base_uri": "https://localhost:8080/"
        },
        "id": "k0orfAc99GeS",
        "outputId": "de579636-f34f-4343-9035-7f4551584db8"
      },
      "execution_count": 32,
      "outputs": [
        {
          "output_type": "stream",
          "name": "stdout",
          "text": [
            "+---+---+---+---+---+\n",
            "|  A|  B|  C|  D|  E|\n",
            "+---+---+---+---+---+\n",
            "|199| 66| 98| 18|108|\n",
            "| 59|  3|147| 30| 38|\n",
            "|160| 25|141| 18| 88|\n",
            "|106|147|164|133|122|\n",
            "|166|184| 96|136| 48|\n",
            "| 87|105| 51| 82|117|\n",
            "| 24|181|185|100|198|\n",
            "|  7|119| 96|100|195|\n",
            "| 16| 22|168|136|166|\n",
            "|162|174|180|147| 18|\n",
            "|  0|117| 41|193|121|\n",
            "|112|161|179|109|194|\n",
            "|122| 56|142|123|109|\n",
            "| 27|152|146|  6| 29|\n",
            "|145|147| 88|156|107|\n",
            "| 65| 60|104| 77|172|\n",
            "| 59|183| 53|157|128|\n",
            "|196|161| 10| 28|114|\n",
            "|175| 73| 86|157|193|\n",
            "|170| 46|157| 98|198|\n",
            "+---+---+---+---+---+\n",
            "only showing top 20 rows\n",
            "\n",
            "root\n",
            " |-- A: long (nullable = true)\n",
            " |-- B: long (nullable = true)\n",
            " |-- C: long (nullable = true)\n",
            " |-- D: long (nullable = true)\n",
            " |-- E: long (nullable = true)\n",
            "\n"
          ]
        }
      ]
    },
    {
      "cell_type": "code",
      "source": [
        "Totpartition=df.rdd.getNumPartitions()\n",
        "print(Totpartition)\n",
        "newpartitiondf = df.repartition(4)\n",
        "\n",
        "print(newpartitiondf.rdd.getNumPartitions())\n",
        "\n",
        "# Repatition by column name into 4 partitions, check the df1 it has a column name city we want it to be in four paritition\n",
        "df4 = df1.repartition(4, \"city\")\n",
        "print(df4.rdd.getNumPartitions())\n",
        "# Repatition by multiple columns\n",
        "#df5 = df4.repartition(\"ColumnName1\",\"ColumnName2\")"
      ],
      "metadata": {
        "colab": {
          "base_uri": "https://localhost:8080/",
          "height": 426
        },
        "id": "DGZxbzIx9PmR",
        "outputId": "e894b4d9-2524-474f-a065-d9e5f57ff83f"
      },
      "execution_count": 30,
      "outputs": [
        {
          "output_type": "stream",
          "name": "stdout",
          "text": [
            "2\n",
            "4\n"
          ]
        },
        {
          "output_type": "error",
          "ename": "AnalysisException",
          "evalue": "[UNRESOLVED_COLUMN.WITH_SUGGESTION] A column or function parameter with name `city` cannot be resolved. Did you mean one of the following? [`A`, `B`, `C`, `D`, `E`].;\n'RepartitionByExpression ['city], 4\n+- LogicalRDD [A#417L, B#418L, C#419L, D#420L, E#421L], false\n",
          "traceback": [
            "\u001b[0;31m---------------------------------------------------------------------------\u001b[0m",
            "\u001b[0;31mAnalysisException\u001b[0m                         Traceback (most recent call last)",
            "\u001b[0;32m/tmp/ipython-input-30-553916961.py\u001b[0m in \u001b[0;36m<cell line: 0>\u001b[0;34m()\u001b[0m\n\u001b[1;32m      6\u001b[0m \u001b[0;34m\u001b[0m\u001b[0m\n\u001b[1;32m      7\u001b[0m \u001b[0;31m# Repatition by column name into 4 partitions, check the df1 it has a column name city we want it to be in four paritition\u001b[0m\u001b[0;34m\u001b[0m\u001b[0;34m\u001b[0m\u001b[0m\n\u001b[0;32m----> 8\u001b[0;31m \u001b[0mdf4\u001b[0m \u001b[0;34m=\u001b[0m \u001b[0mdf1\u001b[0m\u001b[0;34m.\u001b[0m\u001b[0mrepartition\u001b[0m\u001b[0;34m(\u001b[0m\u001b[0;36m4\u001b[0m\u001b[0;34m,\u001b[0m \u001b[0;34m\"city\"\u001b[0m\u001b[0;34m)\u001b[0m\u001b[0;34m\u001b[0m\u001b[0;34m\u001b[0m\u001b[0m\n\u001b[0m\u001b[1;32m      9\u001b[0m \u001b[0mprint\u001b[0m\u001b[0;34m(\u001b[0m\u001b[0mdf4\u001b[0m\u001b[0;34m.\u001b[0m\u001b[0mrdd\u001b[0m\u001b[0;34m.\u001b[0m\u001b[0mgetNumPartitions\u001b[0m\u001b[0;34m(\u001b[0m\u001b[0;34m)\u001b[0m\u001b[0;34m)\u001b[0m\u001b[0;34m\u001b[0m\u001b[0;34m\u001b[0m\u001b[0m\n\u001b[1;32m     10\u001b[0m \u001b[0;31m# Repatition by multiple columns\u001b[0m\u001b[0;34m\u001b[0m\u001b[0;34m\u001b[0m\u001b[0m\n",
            "\u001b[0;32m/usr/local/lib/python3.11/dist-packages/pyspark/sql/dataframe.py\u001b[0m in \u001b[0;36mrepartition\u001b[0;34m(self, numPartitions, *cols)\u001b[0m\n\u001b[1;32m   1747\u001b[0m             \u001b[0;32melse\u001b[0m\u001b[0;34m:\u001b[0m\u001b[0;34m\u001b[0m\u001b[0;34m\u001b[0m\u001b[0m\n\u001b[1;32m   1748\u001b[0m                 return DataFrame(\n\u001b[0;32m-> 1749\u001b[0;31m                     \u001b[0mself\u001b[0m\u001b[0;34m.\u001b[0m\u001b[0m_jdf\u001b[0m\u001b[0;34m.\u001b[0m\u001b[0mrepartition\u001b[0m\u001b[0;34m(\u001b[0m\u001b[0mnumPartitions\u001b[0m\u001b[0;34m,\u001b[0m \u001b[0mself\u001b[0m\u001b[0;34m.\u001b[0m\u001b[0m_jcols\u001b[0m\u001b[0;34m(\u001b[0m\u001b[0;34m*\u001b[0m\u001b[0mcols\u001b[0m\u001b[0;34m)\u001b[0m\u001b[0;34m)\u001b[0m\u001b[0;34m,\u001b[0m\u001b[0;34m\u001b[0m\u001b[0;34m\u001b[0m\u001b[0m\n\u001b[0m\u001b[1;32m   1750\u001b[0m                     \u001b[0mself\u001b[0m\u001b[0;34m.\u001b[0m\u001b[0msparkSession\u001b[0m\u001b[0;34m,\u001b[0m\u001b[0;34m\u001b[0m\u001b[0;34m\u001b[0m\u001b[0m\n\u001b[1;32m   1751\u001b[0m                 )\n",
            "\u001b[0;32m/usr/local/lib/python3.11/dist-packages/py4j/java_gateway.py\u001b[0m in \u001b[0;36m__call__\u001b[0;34m(self, *args)\u001b[0m\n\u001b[1;32m   1320\u001b[0m \u001b[0;34m\u001b[0m\u001b[0m\n\u001b[1;32m   1321\u001b[0m         \u001b[0manswer\u001b[0m \u001b[0;34m=\u001b[0m \u001b[0mself\u001b[0m\u001b[0;34m.\u001b[0m\u001b[0mgateway_client\u001b[0m\u001b[0;34m.\u001b[0m\u001b[0msend_command\u001b[0m\u001b[0;34m(\u001b[0m\u001b[0mcommand\u001b[0m\u001b[0;34m)\u001b[0m\u001b[0;34m\u001b[0m\u001b[0;34m\u001b[0m\u001b[0m\n\u001b[0;32m-> 1322\u001b[0;31m         return_value = get_return_value(\n\u001b[0m\u001b[1;32m   1323\u001b[0m             answer, self.gateway_client, self.target_id, self.name)\n\u001b[1;32m   1324\u001b[0m \u001b[0;34m\u001b[0m\u001b[0m\n",
            "\u001b[0;32m/usr/local/lib/python3.11/dist-packages/pyspark/errors/exceptions/captured.py\u001b[0m in \u001b[0;36mdeco\u001b[0;34m(*a, **kw)\u001b[0m\n\u001b[1;32m    183\u001b[0m                 \u001b[0;31m# Hide where the exception came from that shows a non-Pythonic\u001b[0m\u001b[0;34m\u001b[0m\u001b[0;34m\u001b[0m\u001b[0m\n\u001b[1;32m    184\u001b[0m                 \u001b[0;31m# JVM exception message.\u001b[0m\u001b[0;34m\u001b[0m\u001b[0;34m\u001b[0m\u001b[0m\n\u001b[0;32m--> 185\u001b[0;31m                 \u001b[0;32mraise\u001b[0m \u001b[0mconverted\u001b[0m \u001b[0;32mfrom\u001b[0m \u001b[0;32mNone\u001b[0m\u001b[0;34m\u001b[0m\u001b[0;34m\u001b[0m\u001b[0m\n\u001b[0m\u001b[1;32m    186\u001b[0m             \u001b[0;32melse\u001b[0m\u001b[0;34m:\u001b[0m\u001b[0;34m\u001b[0m\u001b[0;34m\u001b[0m\u001b[0m\n\u001b[1;32m    187\u001b[0m                 \u001b[0;32mraise\u001b[0m\u001b[0;34m\u001b[0m\u001b[0;34m\u001b[0m\u001b[0m\n",
            "\u001b[0;31mAnalysisException\u001b[0m: [UNRESOLVED_COLUMN.WITH_SUGGESTION] A column or function parameter with name `city` cannot be resolved. Did you mean one of the following? [`A`, `B`, `C`, `D`, `E`].;\n'RepartitionByExpression ['city], 4\n+- LogicalRDD [A#417L, B#418L, C#419L, D#420L, E#421L], false\n"
          ]
        }
      ]
    },
    {
      "cell_type": "code",
      "source": [],
      "metadata": {
        "id": "D0soWpBhBB1P"
      },
      "execution_count": null,
      "outputs": []
    },
    {
      "cell_type": "code",
      "source": [
        "df4 = spark.createDataFrame(df_pandas)"
      ],
      "metadata": {
        "id": "gqTeey_--HXZ"
      },
      "execution_count": 19,
      "outputs": []
    },
    {
      "cell_type": "code",
      "source": [
        "\n"
      ],
      "metadata": {
        "id": "f21NYiKG9zEp"
      },
      "execution_count": 17,
      "outputs": []
    },
    {
      "cell_type": "code",
      "source": [
        "df4 = spark.createDataFrame(df_pandas)\n",
        "\n",
        "# show table\n",
        "df4.show()\n",
        "\n",
        "# show schema\n",
        "df4.printSchema()"
      ],
      "metadata": {
        "colab": {
          "base_uri": "https://localhost:8080/"
        },
        "id": "L97eMQAS-UJQ",
        "outputId": "73f0aa7e-661b-4391-f248-aceedd663785"
      },
      "execution_count": 21,
      "outputs": [
        {
          "output_type": "stream",
          "name": "stdout",
          "text": [
            "+---+---+---+---+---+\n",
            "|  A|  B|  C|  D|  E|\n",
            "+---+---+---+---+---+\n",
            "|199| 66| 98| 18|108|\n",
            "| 59|  3|147| 30| 38|\n",
            "|160| 25|141| 18| 88|\n",
            "|106|147|164|133|122|\n",
            "|166|184| 96|136| 48|\n",
            "| 87|105| 51| 82|117|\n",
            "| 24|181|185|100|198|\n",
            "|  7|119| 96|100|195|\n",
            "| 16| 22|168|136|166|\n",
            "|162|174|180|147| 18|\n",
            "|  0|117| 41|193|121|\n",
            "|112|161|179|109|194|\n",
            "|122| 56|142|123|109|\n",
            "| 27|152|146|  6| 29|\n",
            "|145|147| 88|156|107|\n",
            "| 65| 60|104| 77|172|\n",
            "| 59|183| 53|157|128|\n",
            "|196|161| 10| 28|114|\n",
            "|175| 73| 86|157|193|\n",
            "|170| 46|157| 98|198|\n",
            "+---+---+---+---+---+\n",
            "only showing top 20 rows\n",
            "\n",
            "root\n",
            " |-- A: long (nullable = true)\n",
            " |-- B: long (nullable = true)\n",
            " |-- C: long (nullable = true)\n",
            " |-- D: long (nullable = true)\n",
            " |-- E: long (nullable = true)\n",
            "\n"
          ]
        }
      ]
    },
    {
      "cell_type": "code",
      "source": [
        "data = [[295, \"South Bend\", \"Indiana\",  101190, 112.9]]\n",
        "columns = [\"rank\", \"city\", \"state\",  \"population\", \"price\"]\n",
        "\n",
        "df1 = spark.createDataFrame(data, schema=\"rank LONG, city STRING, state STRING,  population LONG, price DOUBLE\")\n",
        "display(df1)\n",
        "df1.show()"
      ],
      "metadata": {
        "colab": {
          "base_uri": "https://localhost:8080/",
          "height": 139
        },
        "id": "ba5MMnbbA6U9",
        "outputId": "b7bd6aa4-31c8-4e26-e68b-07a5b8af85f7"
      },
      "execution_count": 34,
      "outputs": [
        {
          "output_type": "display_data",
          "data": {
            "text/plain": [
              "DataFrame[rank: bigint, city: string, state: string, population: bigint, price: double]"
            ]
          },
          "metadata": {}
        },
        {
          "output_type": "stream",
          "name": "stdout",
          "text": [
            "+----+----------+-------+----------+-----+\n",
            "|rank|      city|  state|population|price|\n",
            "+----+----------+-------+----------+-----+\n",
            "| 295|South Bend|Indiana|    101190|112.9|\n",
            "+----+----------+-------+----------+-----+\n",
            "\n"
          ]
        }
      ]
    },
    {
      "cell_type": "code",
      "source": [
        "Totpartition=df.rdd.getNumPartitions()\n",
        "print(Totpartition)\n",
        "newpartitiondf = df.repartition(4)\n",
        "\n",
        "print(newpartitiondf.rdd.getNumPartitions())\n",
        "\n",
        "# Repatition by column name into 4 partitions, check the df1 it has a column name city we want it to be in four paritition\n",
        "df4 = df1.repartition(4, \"city\")\n",
        "print(df4.rdd.getNumPartitions())\n",
        "# Repatition by multiple columns\n",
        "#df5 = df4.repartition(\"ColumnName1\",\"ColumnName2\")"
      ],
      "metadata": {
        "colab": {
          "base_uri": "https://localhost:8080/"
        },
        "id": "EAi8oIE4BDVl",
        "outputId": "a7d141bc-7372-4dae-f7da-d9f48861cf74"
      },
      "execution_count": 35,
      "outputs": [
        {
          "output_type": "stream",
          "name": "stdout",
          "text": [
            "2\n",
            "4\n",
            "4\n"
          ]
        }
      ]
    },
    {
      "cell_type": "code",
      "source": [
        "Totpartition=df.rdd.getNumPartitions()\n",
        "print(Totpartition)\n",
        "newpartitiondf = df.repartition(4)\n",
        "\n",
        "print(newpartitiondf.rdd.getNumPartitions())\n",
        "\n",
        "# Repatition by column name into 4 partitions, check the df1 it has a column name city we want it to be in four paritition\n",
        "df4 = df1.repartition(4, \"city\")\n",
        "print(df4.rdd.getNumPartitions())\n",
        "# Repatition by multiple columns\n",
        "#df5 = df4.repartition(\"ColumnName1\",\"ColumnName2\")"
      ],
      "metadata": {
        "colab": {
          "base_uri": "https://localhost:8080/"
        },
        "id": "qu4qbb5LBQj1",
        "outputId": "738af824-8a18-4daf-cbbe-8cf860de55cf"
      },
      "execution_count": 36,
      "outputs": [
        {
          "output_type": "stream",
          "name": "stdout",
          "text": [
            "2\n",
            "4\n",
            "4\n"
          ]
        }
      ]
    },
    {
      "cell_type": "code",
      "source": [
        "myfile=\"/content/PlayerDataset.csv\"\n",
        "df_fifa = spark.read.format(\"csv\").load(myfile, inferSchema=True, header=True)"
      ],
      "metadata": {
        "id": "2UvdfOl4Bvg0"
      },
      "execution_count": 42,
      "outputs": []
    },
    {
      "cell_type": "code",
      "source": [
        "# show table\n",
        "df_fifa.show(truncate = True)\n",
        "\n",
        "# show schema\n",
        "df_fifa.printSchema()\n"
      ],
      "metadata": {
        "colab": {
          "base_uri": "https://localhost:8080/"
        },
        "id": "2A33cg9OD-sU",
        "outputId": "e632e6d8-9141-4512-fd7e-671263c20187"
      },
      "execution_count": 43,
      "outputs": [
        {
          "output_type": "stream",
          "name": "stdout",
          "text": [
            "+---+-----------------+---+--------------------+-----------+--------------------+-------+---------+-------------------+--------------------+------------+----+-------+------------+----------+-------+-------+------------+---------+--------+-----+---------+---------+------------------+---------+-----------+----------+--------------+-----------+----------------+-------------+-------+------------+----------+-------+---------+-----------+---------+-------------+----------+--------------+------------+-------+---------------+--------+------+-------+----+----+----+----+----+------+----+----+----+----+----+----+----+----+----+----+-------------------+----+----+----+----+----+----+----+----+----+----+----+\n",
            "|_c0|             Name|Age|               Photo|Nationality|                Flag|Overall|Potential|               Club|           Club Logo|Player_Value|Wage|Special|Acceleration|Aggression|Agility|Balance|Ball control|Composure|Crossing|Curve|Dribbling|Finishing|Free_kick accuracy|GK_diving|GK_handling|GK_kicking|GK_positioning|GK_reflexes|Heading accuracy|Interceptions|Jumping|Long passing|Long shots|Marking|Penalties|Positioning|Reactions|Short passing|Shot power|Sliding_tackle|Sprint_speed|Stamina|Standing tackle|Strength|Vision|Volleys| CAM|  CB| CDM|  CF|  CM|    ID| LAM|  LB| LCB| LCM| LDM|  LF|  LM|  LS|  LW| LWB|Preferred_Positions| RAM|  RB| RCB| RCM| RDM|  RF|  RM|  RS|  RW| RWB|  ST|\n",
            "+---+-----------------+---+--------------------+-----------+--------------------+-------+---------+-------------------+--------------------+------------+----+-------+------------+----------+-------+-------+------------+---------+--------+-----+---------+---------+------------------+---------+-----------+----------+--------------+-----------+----------------+-------------+-------+------------+----------+-------+---------+-----------+---------+-------------+----------+--------------+------------+-------+---------------+--------+------+-------+----+----+----+----+----+------+----+----+----+----+----+----+----+----+----+----+-------------------+----+----+----+----+----+----+----+----+----+----+----+\n",
            "|  0|Cristiano Ronaldo| 32|https://cdn.sofif...|   Portugal|https://cdn.sofif...|     94|       94|     Real Madrid CF|https://cdn.sofif...|        95.5|565K|   2228|          89|        63|     89|     63|          93|       95|      85|   81|       91|       94|                76|        7|         11|        15|            14|         11|              88|           29|     95|          77|        92|     22|       85|         95|       96|           83|        94|            23|          91|     92|             31|      80|    85|     88|  89|  53|  62|  91|  82| 20801|  89|  61|  53|  82|  62|  91|  89|  92|  91|  66|             ST LW |  89|  61|  53|  82|  62|  91|  89|  92|  91|  66|  92|\n",
            "|  1|         L. Messi| 30|https://cdn.sofif...|  Argentina|https://cdn.sofif...|     93|       93|       FC Barcelona|https://cdn.sofif...|         105|565K|   2154|          92|        48|     90|     95|          95|       96|      77|   89|       97|       95|                90|        6|         11|        15|            14|          8|              71|           22|     68|          87|        88|     13|       74|         93|       95|           88|        85|            26|          87|     73|             28|      59|    90|     85|  92|  45|  59|  92|  84|158023|  92|  57|  45|  84|  59|  92|  90|  88|  91|  62|                RW |  92|  57|  45|  84|  59|  92|  90|  88|  91|  62|  88|\n",
            "|  2|           Neymar| 25|https://cdn.sofif...|     Brazil|https://cdn.sofif...|     92|       94|Paris Saint-Germain|https://cdn.sofif...|         123|280K|   2100|          94|        56|     96|     82|          95|       92|      75|   81|       96|       89|                84|        9|          9|        15|            15|         11|              62|           36|     61|          75|        77|     21|       81|         90|       88|           81|        80|            33|          90|     78|             24|      53|    80|     83|  88|  46|  59|  88|  79|190871|  88|  59|  46|  79|  59|  88|  87|  84|  89|  64|                LW |  88|  59|  46|  79|  59|  88|  87|  84|  89|  64|  84|\n",
            "|  3|        L. Suárez| 30|https://cdn.sofif...|    Uruguay|https://cdn.sofif...|     92|       92|       FC Barcelona|https://cdn.sofif...|          97|510K|   2291|          88|        78|     86|     60|          91|       83|      77|   86|       86|       94|                84|       27|         25|        31|            33|         37|              77|           41|     69|          64|        86|     30|       85|         92|       93|           83|        87|            38|          77|     89|             45|      80|    84|     88|  87|  58|  65|  88|  80|176580|  87|  64|  58|  80|  65|  88|  85|  88|  87|  68|                ST |  87|  64|  58|  80|  65|  88|  85|  88|  87|  68|  88|\n",
            "|  4|         M. Neuer| 31|https://cdn.sofif...|    Germany|https://cdn.sofif...|     92|       92|   FC Bayern Munich|https://cdn.sofif...|          61|230K|   1493|          58|        29|     52|     35|          48|       70|      15|   14|       30|       13|                11|       91|         90|        95|            91|         89|              25|           30|     78|          59|        16|     10|       47|         12|       85|           55|        25|            11|          61|     44|             10|      83|    70|     11|NULL|NULL|NULL|NULL|NULL|167495|NULL|NULL|NULL|NULL|NULL|NULL|NULL|NULL|NULL|NULL|                GK_|NULL|NULL|NULL|NULL|NULL|NULL|NULL|NULL|NULL|NULL|NULL|\n",
            "|  5|   R. Lewandowski| 28|https://cdn.sofif...|     Poland|https://cdn.sofif...|     91|       91|   FC Bayern Munich|https://cdn.sofif...|          92|355K|   2143|          79|        80|     78|     80|          89|       87|      62|   77|       85|       91|                84|       15|          6|        12|             8|         10|              85|           39|     84|          65|        83|     25|       81|         91|       91|           83|        88|            19|          83|     79|             42|      84|    78|     87|  84|  57|  62|  87|  78|188545|  84|  58|  57|  78|  62|  87|  82|  88|  84|  61|                ST |  84|  58|  57|  78|  62|  87|  82|  88|  84|  61|  88|\n",
            "|  6|           De Gea| 26|https://cdn.sofif...|      Spain|https://cdn.sofif...|     90|       92|  Manchester United|https://cdn.sofif...|        64.5|215K|   1458|          57|        38|     60|     43|          42|       64|      17|   21|       18|       13|                19|       90|         85|        87|            86|         90|              21|           30|     67|          51|        12|     13|       40|         12|       88|           50|        31|            13|          58|     40|             21|      64|    68|     13|NULL|NULL|NULL|NULL|NULL|193080|NULL|NULL|NULL|NULL|NULL|NULL|NULL|NULL|NULL|NULL|                GK_|NULL|NULL|NULL|NULL|NULL|NULL|NULL|NULL|NULL|NULL|NULL|\n",
            "|  7|        E. Hazard| 26|https://cdn.sofif...|    Belgium|https://cdn.sofif...|     90|       91|            Chelsea|https://cdn.sofif...|        90.5|295K|   2096|          93|        54|     93|     91|          92|       87|      80|   82|       93|       83|                79|       11|         12|         6|             8|          8|              57|           41|     59|          81|        82|     25|       86|         85|       85|           86|        79|            22|          87|     79|             27|      65|    86|     79|  88|  47|  61|  87|  81|183277|  88|  59|  47|  81|  61|  87|  87|  82|  88|  64|                LW |  88|  59|  47|  81|  61|  87|  87|  82|  88|  64|  82|\n",
            "|  8|         T. Kroos| 27|https://cdn.sofif...|    Germany|https://cdn.sofif...|     90|       90|     Real Madrid CF|https://cdn.sofif...|          79|340K|   2165|          60|        60|     71|     69|          89|       85|      85|   85|       79|       76|                84|       10|         11|        13|             7|         10|              54|           85|     32|          93|        90|     63|       73|         79|       86|           90|        87|            69|          52|     77|             82|      74|    88|     82|  83|  72|  82|  81|  87|182521|  83|  76|  72|  87|  82|  81|  81|  77|  80|  78|            CDM CM |  83|  76|  72|  87|  82|  81|  81|  77|  80|  78|  77|\n",
            "|  9|       G. Higuaín| 29|https://cdn.sofif...|  Argentina|https://cdn.sofif...|     90|       90|           Juventus|https://cdn.sofif...|          77|275K|   1961|          78|        50|     75|     69|          85|       86|      68|   74|       84|       91|                62|        5|         12|         7|             5|         10|              86|           20|     79|          59|        82|     12|       70|         92|       88|           75|        88|            18|          80|     72|             22|      85|    70|     88|  81|  46|  52|  84|  71|167664|  81|  51|  46|  71|  52|  84|  79|  87|  82|  55|                ST |  81|  51|  46|  71|  52|  84|  79|  87|  82|  55|  87|\n",
            "| 10|     Sergio Ramos| 31|https://cdn.sofif...|      Spain|https://cdn.sofif...|     90|       90|     Real Madrid CF|https://cdn.sofif...|          52|310K|   2153|          75|        84|     79|     60|          84|       80|      66|   73|       61|       60|                67|       11|          8|         9|             7|         11|              91|           88|     93|          72|        55|     86|       68|         52|       85|           78|        79|            91|          77|     84|             89|      81|    63|     66|  70|  87|  83|  70|  74|155862|  70|  84|  87|  74|  83|  70|  71|  72|  69|  81|                CB |  70|  84|  87|  74|  83|  70|  71|  72|  69|  81|  72|\n",
            "| 11|     K. De Bruyne| 26|https://cdn.sofif...|    Belgium|https://cdn.sofif...|     89|       92|    Manchester City|https://cdn.sofif...|          83|285K|   2162|          76|        68|     80|     75|          87|       84|      90|   83|       85|       83|                83|       15|         13|         5|            10|         13|              53|           56|     65|          84|        86|     30|       77|         84|       88|           90|        85|            40|          75|     87|             51|      73|    90|     82|  86|  57|  70|  85|  84|192985|  86|  66|  57|  84|  70|  85|  85|  81|  85|  71|         RM CM CAM |  86|  66|  57|  84|  70|  85|  85|  81|  85|  71|  81|\n",
            "| 12|      T. Courtois| 25|https://cdn.sofif...|    Belgium|https://cdn.sofif...|     89|       92|            Chelsea|https://cdn.sofif...|          59|190K|   1282|          46|        23|     61|     45|          23|       52|      14|   19|       13|       14|                11|       85|         91|        69|            86|         88|              13|           15|     68|          31|        17|     11|       27|         13|       81|           32|        36|            16|          52|     38|             18|      70|    44|     12|NULL|NULL|NULL|NULL|NULL|192119|NULL|NULL|NULL|NULL|NULL|NULL|NULL|NULL|NULL|NULL|                GK_|NULL|NULL|NULL|NULL|NULL|NULL|NULL|NULL|NULL|NULL|NULL|\n",
            "| 13|       A. Sánchez| 28|https://cdn.sofif...|      Chile|https://cdn.sofif...|     89|       89|            Arsenal|https://cdn.sofif...|        67.5|265K|   2181|          88|        80|     90|     87|          87|       86|      80|   78|       90|       85|                78|       10|         10|        15|            12|         13|              70|           42|     85|          73|        82|     30|       77|         86|       87|           81|        84|            35|          84|     85|             39|      72|    83|     83|  85|  56|  64|  85|  79|184941|  85|  62|  56|  79|  64|  85|  85|  83|  86|  66|       RM LW ST LM |  85|  62|  56|  79|  64|  85|  85|  83|  86|  66|  83|\n",
            "| 14|        L. Modrić| 31|https://cdn.sofif...|    Croatia|https://cdn.sofif...|     89|       89|     Real Madrid CF|https://cdn.sofif...|          57|340K|   2228|          75|        62|     93|     94|          92|       84|      78|   79|       86|       71|                77|       13|          9|         7|            14|          9|              55|           76|     67|          83|        82|     66|       80|         79|       88|           92|        73|            73|          71|     82|             80|      58|    90|     74|  86|  72|  80|  83|  86|177003|  86|  78|  72|  86|  80|  83|  84|  76|  83|  80|            CDM CM |  86|  78|  72|  86|  80|  83|  84|  76|  83|  80|  76|\n",
            "| 15|          G. Bale| 27|https://cdn.sofif...|      Wales|https://cdn.sofif...|     89|       89|     Real Madrid CF|https://cdn.sofif...|        69.5|370K|   2263|          93|        65|     77|     65|          87|       85|      87|   86|       89|       87|                85|       15|         15|        11|             5|          6|              86|           59|     85|          80|        90|     51|       76|         86|       87|           86|        91|            52|          95|     76|             55|      80|    79|     76|  86|  67|  71|  87|  81|173731|  86|  72|  67|  81|  71|  87|  87|  87|  87|  74|                RW |  86|  72|  67|  81|  71|  87|  87|  87|  87|  74|  87|\n",
            "| 16|        S. Agüero| 29|https://cdn.sofif...|  Argentina|https://cdn.sofif...|     89|       89|    Manchester City|https://cdn.sofif...|        66.5|325K|   2074|          90|        63|     86|     91|          89|       90|      70|   82|       89|       90|                72|       13|         15|         6|            11|         14|              68|           24|     80|          63|        83|     13|       83|         91|       89|           79|        88|            12|          84|     74|             20|      74|    83|     85|  85|  44|  54|  87|  75|153079|  85|  52|  44|  75|  54|  87|  84|  86|  86|  57|                ST |  85|  52|  44|  75|  54|  87|  84|  86|  86|  57|  86|\n",
            "| 17|     G. Chiellini| 32|https://cdn.sofif...|      Italy|https://cdn.sofif...|     89|       89|           Juventus|https://cdn.sofif...|          38|225K|   1867|          68|        92|     59|     64|          57|       82|      58|   60|       58|       33|                31|        3|          3|         2|             4|          3|              84|           88|     89|          59|        49|     92|       50|         28|       82|           59|        78|            90|          78|     68|             92|      91|    50|     45|  55|  86|  76|  55|  60|138956|  55|  78|  86|  60|  76|  55|  58|  59|  56|  75|                CB |  55|  78|  86|  60|  76|  55|  58|  59|  56|  75|  59|\n",
            "| 18|        G. Buffon| 39|https://cdn.sofif...|      Italy|https://cdn.sofif...|     89|       89|           Juventus|https://cdn.sofif...|         4.5|110K|   1335|          49|        38|     55|     49|          28|       70|      13|   20|       26|       15|                13|       89|         88|        74|            90|         84|              13|           28|     75|          35|        13|     10|       22|         12|       80|           37|        39|            11|          43|     39|             11|      69|    50|     17|NULL|NULL|NULL|NULL|NULL|  1179|NULL|NULL|NULL|NULL|NULL|NULL|NULL|NULL|NULL|NULL|                GK_|NULL|NULL|NULL|NULL|NULL|NULL|NULL|NULL|NULL|NULL|NULL|\n",
            "| 19|        P. Dybala| 23|https://cdn.sofif...|  Argentina|https://cdn.sofif...|     88|       93|           Juventus|https://cdn.sofif...|          79|215K|   2063|          88|        48|     91|     85|          93|       84|      80|   88|       92|       85|                84|        5|          4|         4|             5|          8|              68|           24|     75|          71|        88|     14|       86|         84|       84|           83|        82|            20|          84|     83|             20|      65|    84|     88|  86|  43|  55|  86|  78|211110|  86|  55|  43|  78|  55|  86|  86|  83|  87|  60|            ST CAM |  86|  55|  43|  78|  55|  86|  86|  83|  87|  60|  83|\n",
            "+---+-----------------+---+--------------------+-----------+--------------------+-------+---------+-------------------+--------------------+------------+----+-------+------------+----------+-------+-------+------------+---------+--------+-----+---------+---------+------------------+---------+-----------+----------+--------------+-----------+----------------+-------------+-------+------------+----------+-------+---------+-----------+---------+-------------+----------+--------------+------------+-------+---------------+--------+------+-------+----+----+----+----+----+------+----+----+----+----+----+----+----+----+----+----+-------------------+----+----+----+----+----+----+----+----+----+----+----+\n",
            "only showing top 20 rows\n",
            "\n",
            "root\n",
            " |-- _c0: integer (nullable = true)\n",
            " |-- Name: string (nullable = true)\n",
            " |-- Age: integer (nullable = true)\n",
            " |-- Photo: string (nullable = true)\n",
            " |-- Nationality: string (nullable = true)\n",
            " |-- Flag: string (nullable = true)\n",
            " |-- Overall: integer (nullable = true)\n",
            " |-- Potential: integer (nullable = true)\n",
            " |-- Club: string (nullable = true)\n",
            " |-- Club Logo: string (nullable = true)\n",
            " |-- Player_Value: string (nullable = true)\n",
            " |-- Wage: string (nullable = true)\n",
            " |-- Special: integer (nullable = true)\n",
            " |-- Acceleration: string (nullable = true)\n",
            " |-- Aggression: string (nullable = true)\n",
            " |-- Agility: string (nullable = true)\n",
            " |-- Balance: string (nullable = true)\n",
            " |-- Ball control: string (nullable = true)\n",
            " |-- Composure: string (nullable = true)\n",
            " |-- Crossing: string (nullable = true)\n",
            " |-- Curve: string (nullable = true)\n",
            " |-- Dribbling: string (nullable = true)\n",
            " |-- Finishing: string (nullable = true)\n",
            " |-- Free_kick accuracy: string (nullable = true)\n",
            " |-- GK_diving: string (nullable = true)\n",
            " |-- GK_handling: string (nullable = true)\n",
            " |-- GK_kicking: string (nullable = true)\n",
            " |-- GK_positioning: string (nullable = true)\n",
            " |-- GK_reflexes: string (nullable = true)\n",
            " |-- Heading accuracy: string (nullable = true)\n",
            " |-- Interceptions: string (nullable = true)\n",
            " |-- Jumping: string (nullable = true)\n",
            " |-- Long passing: string (nullable = true)\n",
            " |-- Long shots: string (nullable = true)\n",
            " |-- Marking: string (nullable = true)\n",
            " |-- Penalties: string (nullable = true)\n",
            " |-- Positioning: string (nullable = true)\n",
            " |-- Reactions: string (nullable = true)\n",
            " |-- Short passing: string (nullable = true)\n",
            " |-- Shot power: string (nullable = true)\n",
            " |-- Sliding_tackle: string (nullable = true)\n",
            " |-- Sprint_speed: string (nullable = true)\n",
            " |-- Stamina: string (nullable = true)\n",
            " |-- Standing tackle: string (nullable = true)\n",
            " |-- Strength: string (nullable = true)\n",
            " |-- Vision: string (nullable = true)\n",
            " |-- Volleys: string (nullable = true)\n",
            " |-- CAM: integer (nullable = true)\n",
            " |-- CB: integer (nullable = true)\n",
            " |-- CDM: integer (nullable = true)\n",
            " |-- CF: integer (nullable = true)\n",
            " |-- CM: integer (nullable = true)\n",
            " |-- ID: integer (nullable = true)\n",
            " |-- LAM: integer (nullable = true)\n",
            " |-- LB: integer (nullable = true)\n",
            " |-- LCB: integer (nullable = true)\n",
            " |-- LCM: integer (nullable = true)\n",
            " |-- LDM: integer (nullable = true)\n",
            " |-- LF: integer (nullable = true)\n",
            " |-- LM: integer (nullable = true)\n",
            " |-- LS: integer (nullable = true)\n",
            " |-- LW: integer (nullable = true)\n",
            " |-- LWB: integer (nullable = true)\n",
            " |-- Preferred_Positions: string (nullable = true)\n",
            " |-- RAM: integer (nullable = true)\n",
            " |-- RB: integer (nullable = true)\n",
            " |-- RCB: integer (nullable = true)\n",
            " |-- RCM: integer (nullable = true)\n",
            " |-- RDM: integer (nullable = true)\n",
            " |-- RF: integer (nullable = true)\n",
            " |-- RM: integer (nullable = true)\n",
            " |-- RS: integer (nullable = true)\n",
            " |-- RW: integer (nullable = true)\n",
            " |-- RWB: integer (nullable = true)\n",
            " |-- ST: integer (nullable = true)\n",
            "\n"
          ]
        }
      ]
    },
    {
      "cell_type": "code",
      "source": [
        "print(df_fifa.count())\n",
        "print(len(df_fifa.columns))"
      ],
      "metadata": {
        "colab": {
          "base_uri": "https://localhost:8080/"
        },
        "id": "oRGLcMD0EAYK",
        "outputId": "ae905f04-72f6-4526-845a-fdf787de4af0"
      },
      "execution_count": 44,
      "outputs": [
        {
          "output_type": "stream",
          "name": "stdout",
          "text": [
            "17981\n",
            "75\n"
          ]
        }
      ]
    },
    {
      "cell_type": "code",
      "source": [
        "# Count rows using rdd attribute\n",
        "row_count = df_fifa.rdd.count()\n",
        "\n",
        "print(f'The DataFrame has {row_count} rows.')"
      ],
      "metadata": {
        "colab": {
          "base_uri": "https://localhost:8080/"
        },
        "id": "KxbaVrLkEG_D",
        "outputId": "3a0abe44-9264-4e0b-9217-cab0db659931"
      },
      "execution_count": 45,
      "outputs": [
        {
          "output_type": "stream",
          "name": "stdout",
          "text": [
            "The DataFrame has 17981 rows.\n"
          ]
        }
      ]
    },
    {
      "cell_type": "code",
      "source": [
        "# Change the number of partitions\n",
        "df_fifa = df_fifa.repartition(4)\n",
        "df_fifa.rdd.getNumPartitions()\n"
      ],
      "metadata": {
        "colab": {
          "base_uri": "https://localhost:8080/"
        },
        "id": "7BXcrVOBENJK",
        "outputId": "19ebfe5d-7f12-45d7-8cc9-9c3fd7cb2bb1"
      },
      "execution_count": 46,
      "outputs": [
        {
          "output_type": "execute_result",
          "data": {
            "text/plain": [
              "4"
            ]
          },
          "metadata": {},
          "execution_count": 46
        }
      ]
    },
    {
      "cell_type": "code",
      "source": [
        "# showing Age more than  20\n",
        "subset_Age = df_fifa.filter(df_fifa[\"Age\"] > 30)\n",
        "subset_Age.show(10)"
      ],
      "metadata": {
        "colab": {
          "base_uri": "https://localhost:8080/"
        },
        "id": "lK_JywuqEQsT",
        "outputId": "65d38f01-c8e6-4458-fe58-7152f8fa4273"
      },
      "execution_count": 47,
      "outputs": [
        {
          "output_type": "stream",
          "name": "stdout",
          "text": [
            "+-----+-----------+---+--------------------+-------------+--------------------+-------+---------+------------------+--------------------+------------+----+-------+------------+----------+-------+-------+------------+---------+--------+-----+---------+---------+------------------+---------+-----------+----------+--------------+-----------+----------------+-------------+-------+------------+----------+-------+---------+-----------+---------+-------------+----------+--------------+------------+-------+---------------+--------+------+-------+----+----+----+----+----+------+----+----+----+----+----+----+----+----+----+----+-------------------+----+----+----+----+----+----+----+----+----+----+----+\n",
            "|  _c0|       Name|Age|               Photo|  Nationality|                Flag|Overall|Potential|              Club|           Club Logo|Player_Value|Wage|Special|Acceleration|Aggression|Agility|Balance|Ball control|Composure|Crossing|Curve|Dribbling|Finishing|Free_kick accuracy|GK_diving|GK_handling|GK_kicking|GK_positioning|GK_reflexes|Heading accuracy|Interceptions|Jumping|Long passing|Long shots|Marking|Penalties|Positioning|Reactions|Short passing|Shot power|Sliding_tackle|Sprint_speed|Stamina|Standing tackle|Strength|Vision|Volleys| CAM|  CB| CDM|  CF|  CM|    ID| LAM|  LB| LCB| LCM| LDM|  LF|  LM|  LS|  LW| LWB|Preferred_Positions| RAM|  RB| RCB| RCM| RDM|  RF|  RM|  RS|  RW| RWB|  ST|\n",
            "+-----+-----------+---+--------------------+-------------+--------------------+-------+---------+------------------+--------------------+------------+----+-------+------------+----------+-------+-------+------------+---------+--------+-----+---------+---------+------------------+---------+-----------+----------+--------------+-----------+----------------+-------------+-------+------------+----------+-------+---------+-----------+---------+-------------+----------+--------------+------------+-------+---------------+--------+------+-------+----+----+----+----+----+------+----+----+----+----+----+----+----+----+----+----+-------------------+----+----+----+----+----+----+----+----+----+----+----+\n",
            "| 2811|A. Isaksson| 35|https://cdn.sofif...|       Sweden|https://cdn.sofif...|     73|       73|    Djurgårdens IF|https://cdn.sofif...|        950K|  4K|   1099|          36|        32|     28|     21|          15|       67|      11|   12|       11|       19|                20|       74|         68|        63|            71|         76|              12|           19|     62|          30|        12|     17|       25|         13|       70|           38|        23|            20|          42|     31|             19|      70|    22|     17|NULL|NULL|NULL|NULL|NULL| 20551|NULL|NULL|NULL|NULL|NULL|NULL|NULL|NULL|NULL|NULL|                GK_|NULL|NULL|NULL|NULL|NULL|NULL|NULL|NULL|NULL|NULL|NULL|\n",
            "|   45|    Iniesta| 33|https://cdn.sofif...|        Spain|https://cdn.sofif...|     87|       87|      FC Barcelona|https://cdn.sofif...|        29.5|260K|   2073|          72|        58|     79|     84|          94|       89|      77|   80|       90|       70|                70|        6|         13|         6|            13|          7|              54|           66|     52|          86|        71|     57|       71|         84|       88|           92|        65|            56|          71|     58|             57|      58|    94|     74|  87|  63|  74|  83|  84|    41|  87|  69|  63|  84|  74|  83|  84|  76|  84|  72|             LM CM |  87|  69|  63|  84|  74|  83|  84|  76|  84|  72|  76|\n",
            "|  670|     Jurado| 31|https://cdn.sofif...|        Spain|https://cdn.sofif...|     79|       79|      RCD Espanyol|https://cdn.sofif...|          11| 37K|   1896|          72|        46|     80|     72|          81|       68|      80|   80|       83|       77|                78|       11|         15|         7|             6|         13|              47|           40|     62|          79|        75|     19|       66|         79|       81|           82|        76|            27|          69|     62|             26|      56|    80|     69|  80|  43|  56|  78|  75|159171|  80|  53|  43|  75|  56|  78|  78|  74|  79|  58|      CM CAM RM LM |  80|  53|  43|  75|  56|  78|  78|  74|  79|  58|  74|\n",
            "|12147|J. Sandoval| 31|https://cdn.sofif...|      Uruguay|https://cdn.sofif...|     63|       63|Argentinos Juniors|https://cdn.sofif...|        240K|  2K|   1630|          70|        61|     69|     71|          51|       51|      51|   37|       61|       49|                44|       13|          8|        13|            10|          9|              57|           54|     64|          41|        40|     66|       46|         52|       61|           49|        54|            68|          74|     71|             66|      66|    45|     39|  53|  62|  57|  54|  52|240689|  53|  62|  62|  52|  57|  54|  56|  55|  55|  61|                RB |  53|  62|  62|  52|  57|  54|  56|  55|  55|  61|  55|\n",
            "| 1276|     G. Lux| 35|https://cdn.sofif...|    Argentina|https://cdn.sofif...|     76|       76|       River Plate|https://cdn.sofif...|         1.8| 12K|   1169|          29|        45|     56|     55|          35|       43|      12|   13|       11|       13|                12|       74|         71|        78|            76|         79|              13|           17|     68|          29|        11|     15|       12|         11|       75|           12|        12|            14|          32|     43|             13|      72|    49|     12|NULL|NULL|NULL|NULL|NULL|138798|NULL|NULL|NULL|NULL|NULL|NULL|NULL|NULL|NULL|NULL|                GK_|NULL|NULL|NULL|NULL|NULL|NULL|NULL|NULL|NULL|NULL|NULL|\n",
            "| 8213| J. Bréchet| 37|https://cdn.sofif...|       France|https://cdn.sofif...|     67|       67|       GFC Ajaccio|https://cdn.sofif...|        100K|  3K|   1574|          28|        67|     25|     47|          57|       62|      62|   59|       27|       37|                60|        7|         10|         8|            16|         13|              69|           64|     66|          62|        54|     67|       59|         43|       51|           65|        59|            65|          28|     55|             68|      76|    54|     46|  48|  66|  63|  46|  55|  4732|  48|  58|  66|  55|  63|  46|  47|  49|  45|  57|                CB |  48|  58|  66|  55|  63|  46|  47|  49|  45|  57|  49|\n",
            "| 2690| R. Pasveer| 33|https://cdn.sofif...|  Netherlands|https://cdn.sofif...|     73|       73|           Vitesse|https://cdn.sofif...|           2|  9K|   1143|          46|        29|     57|     36|          30|       65|      11|   15|       11|       12|                13|       72|         75|        60|            75|         70|              13|           13|     65|          11|        16|     13|       28|         15|       68|           30|        26|            12|          40|     32|             13|      71|    49|     16|NULL|NULL|NULL|NULL|NULL|162328|NULL|NULL|NULL|NULL|NULL|NULL|NULL|NULL|NULL|NULL|                GK_|NULL|NULL|NULL|NULL|NULL|NULL|NULL|NULL|NULL|NULL|NULL|\n",
            "| 3919| N. Rimando| 38|https://cdn.sofif...|United States|https://cdn.sofif...|     72|       72|    Real Salt Lake|https://cdn.sofif...|        210K|  3K|   1242|          45|        31|     52|     55|          37|       50|      24|   20|       16|       17|                24|       71|         70|        70|            70|         75|              13|           11|     64|          39|        15|     12|       35|         17|       65|           39|        25|            13|          46|     31|             12|      60|    56|     12|NULL|NULL|NULL|NULL|NULL| 16097|NULL|NULL|NULL|NULL|NULL|NULL|NULL|NULL|NULL|NULL|                GK_|NULL|NULL|NULL|NULL|NULL|NULL|NULL|NULL|NULL|NULL|NULL|\n",
            "| 3128|  E. Madrez| 33|https://cdn.sofif...|        Chile|https://cdn.sofif...|     73|       73|    Unión Española|https://cdn.sofif...|         1.6|  6K|   1707|          63|        77|     48|     55|          50|       67|      51|   54|       44|       33|                42|       12|          7|        12|             9|         10|              74|           67|     72|          74|        45|     69|       71|         40|       62|           66|        72|            76|          66|     46|             77|      81|    42|     40|  51|  72|  66|  51|  56|159933|  51|  65|  72|  56|  66|  51|  52|  54|  50|  62|             LB CB |  51|  65|  72|  56|  66|  51|  52|  54|  50|  62|  54|\n",
            "|10455|  G. Liddle| 31|https://cdn.sofif...|      England|https://cdn.sofif...|     65|       65|   Carlisle United|https://cdn.sofif...|        375K|  4K|   1684|          50|        75|     67|     58|          64|       65|      49|   47|       47|       41|                32|       13|         15|        33|            15|         13|              63|           65|     74|          63|        43|     60|       46|         45|       65|           64|        56|            63|          51|     66|             64|      75|    53|     49|  55|  65|  64|  53|  59|169619|  55|  61|  65|  59|  64|  53|  55|  54|  53|  60|      CB RB CM CDM |  55|  61|  65|  59|  64|  53|  55|  54|  53|  60|  54|\n",
            "+-----+-----------+---+--------------------+-------------+--------------------+-------+---------+------------------+--------------------+------------+----+-------+------------+----------+-------+-------+------------+---------+--------+-----+---------+---------+------------------+---------+-----------+----------+--------------+-----------+----------------+-------------+-------+------------+----------+-------+---------+-----------+---------+-------------+----------+--------------+------------+-------+---------------+--------+------+-------+----+----+----+----+----+------+----+----+----+----+----+----+----+----+----+----+-------------------+----+----+----+----+----+----+----+----+----+----+----+\n",
            "only showing top 10 rows\n",
            "\n"
          ]
        }
      ]
    },
    {
      "cell_type": "code",
      "source": [
        "df_fifa.select(\"Name\",\"Club\").distinct().show(100)"
      ],
      "metadata": {
        "colab": {
          "base_uri": "https://localhost:8080/"
        },
        "id": "faqm6_JkESwb",
        "outputId": "d065e1fe-26cc-41b3-9547-b069c50dba14"
      },
      "execution_count": 48,
      "outputs": [
        {
          "output_type": "stream",
          "name": "stdout",
          "text": [
            "+-----------------+--------------------+\n",
            "|             Name|                Club|\n",
            "+-----------------+--------------------+\n",
            "|      A. Di María| Paris Saint-Germain|\n",
            "|      N. Füllkrug|         Hannover 96|\n",
            "|  Simão Donatinho|Clube Atlético Pa...|\n",
            "|      J. Eiswohld|           IK Sirius|\n",
            "|          Rafinha|        FC Barcelona|\n",
            "|      I. González|           Club León|\n",
            "|        H. Osorio|Independiente San...|\n",
            "|         O. Şahan|         Trabzonspor|\n",
            "|         D. Frick|         FSV Zwickau|\n",
            "|         R. Costa|           Temperley|\n",
            "|      K. Savichev|FC SKA-Energiya K...|\n",
            "|        T. Thomas|      Wigan Athletic|\n",
            "|   Back Jong Hwan|          Gangwon FC|\n",
            "|       A. Ordóñez| Eintracht Frankfurt|\n",
            "|         L. Nolan|  Accrington Stanley|\n",
            "|       J. Cortizo|           Querétaro|\n",
            "|             Dudu|      Kashiwa Reysol|\n",
            "|     L. Chiaretti|          Cittadella|\n",
            "|        B. Foster|West Bromwich Albion|\n",
            "|       S. Ulreich|    FC Bayern Munich|\n",
            "|Cristian Ceballos|   Sint-Truidense VV|\n",
            "|       Lee Kyu Ro|            FC Seoul|\n",
            "|        J. Galván|   Colon de Santa Fe|\n",
            "|             Eder|               Inter|\n",
            "|         O. Trejo|      Rayo Vallecano|\n",
            "|       J. Spector|Orlando City Socc...|\n",
            "|    M. van Bergen|             Vitesse|\n",
            "|        B. Sanneh|          AC Horsens|\n",
            "|         M. Bravo|Tiburones Rojos d...|\n",
            "|   J. Butterfield| Sheffield Wednesday|\n",
            "|           S. Cox|     Southend United|\n",
            "|        J. Mojica|           Girona CF|\n",
            "|           Tienza| Real Betis Balompié|\n",
            "|      V. Janjičić|        Hamburger SV|\n",
            "|      S. Saunders|   Wycombe Wanderers|\n",
            "|      M. Vitzthum|SG Sonnenhof Groß...|\n",
            "|      H. Harbaoui|      RSC Anderlecht|\n",
            "|        S. Altama|La Berrichonne de...|\n",
            "|     P. Grazziani|   Alianza Petrolera|\n",
            "|           C. Day|           Stevenage|\n",
            "|         D. Leahy|       Coventry City|\n",
            "|         A. Byrne|         Exeter City|\n",
            "|        S. Wimmer|     SC Paderborn 07|\n",
            "|        A. Agouda|     Strømsgodset IF|\n",
            "|     D. Matsuzaka|     Southend United|\n",
            "|        I. Angulo|         Envigado FC|\n",
            "|       F. Quignon|San Lorenzo de Al...|\n",
            "|         M. Duffy|             Dundalk|\n",
            "|       W. Johnson|Orlando City Socc...|\n",
            "|        S. Grippo|       Real Zaragoza|\n",
            "|         N. Leali|    SV Zulte-Waregem|\n",
            "|      L. Desábato|     Vélez Sarsfield|\n",
            "|        M. Cornet|  Olympique Lyonnais|\n",
            "|  Mauriçio Clerez|Associação Chapec...|\n",
            "|       Orlando Sá|   Standard de Liège|\n",
            "|       N. Bertolo|            Banfield|\n",
            "|         D. Dueña|CD Universidad de...|\n",
            "|      P. Hoffmann|  SC Preußen Münster|\n",
            "|  M. Pérez García| Club Atlético Tigre|\n",
            "|    M. Harrington|Chicago Fire Socc...|\n",
            "|      D. Sołdecki|         Arka Gdynia|\n",
            "|         A. Milić|         KV Oostende|\n",
            "|     Narcisso Mau|            Vitória |\n",
            "|        Y. Thuram|         Le Havre AC|\n",
            "|       C. Bolaños|Vancouver Whiteca...|\n",
            "|    L. Di Lorenzo|           Temperley|\n",
            "|          J. Leca|          AC Ajaccio|\n",
            "|       E. Sánchez|             Pachuca|\n",
            "|        W. O'Hora|         Bohemian FC|\n",
            "|        C. Clough|              Barnet|\n",
            "|       R. Guitane|         Le Havre AC|\n",
            "|           F. Due|          Randers FC|\n",
            "|     J. Henriksen|        FC Helsingør|\n",
            "|       O. Holness|      Real Salt Lake|\n",
            "|      C. Kahraman|  1. FC Union Berlin|\n",
            "|     Rafael Costa|       Moreirense FC|\n",
            "|        F. Acerbi|            Sassuolo|\n",
            "|         M. Sauer|Eintracht Braunsc...|\n",
            "|     F. Santander|        FC København|\n",
            "|       C. Maloney|    Columbus Crew SC|\n",
            "|      G. Maniatis|          Alanyaspor|\n",
            "|    Erick Gameira|Grêmio Foot-Ball ...|\n",
            "|      Fábio China|         CS Marítimo|\n",
            "|       M. Fouzair|            Al Nassr|\n",
            "|      B. Urbański|           Willem II|\n",
            "|         G. Denis| Club Atlético Lanús|\n",
            "|       L. Payares|     Deportivo Pasto|\n",
            "|      E. Bičakčić| TSG 1899 Hoffenheim|\n",
            "|      A. Fletcher|       Middlesbrough|\n",
            "|      O. Toivonen|         Toulouse FC|\n",
            "|        E. Kangwa|        Arsenal Tula|\n",
            "|       J. Glesnes|     Strømsgodset IF|\n",
            "|          G. Baah|  New York Red Bulls|\n",
            "|    Borja Herrera|       UD Las Palmas|\n",
            "|       M. Piossek|  Sportfreunde Lotte|\n",
            "|     Hugo Álvarez|         AD Alcorcón|\n",
            "|   Jorgino Baumer|  Avaí Futebol Clube|\n",
            "|        I. Konaté|          RB Leipzig|\n",
            "|       S. Asamoah|   Sint-Truidense VV|\n",
            "|       H. Cornick|          Luton Town|\n",
            "+-----------------+--------------------+\n",
            "only showing top 100 rows\n",
            "\n"
          ]
        }
      ]
    }
  ]
}