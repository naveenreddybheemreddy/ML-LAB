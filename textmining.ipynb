{
  "nbformat": 4,
  "nbformat_minor": 0,
  "metadata": {
    "colab": {
      "provenance": [],
      "name": "textmining.ipynb",
      "authorship_tag": "ABX9TyOkjXnYXtEOEhO7hg85hSGB",
      "include_colab_link": true
    },
    "kernelspec": {
      "name": "python3",
      "display_name": "Python 3"
    },
    "language_info": {
      "name": "python"
    }
  },
  "cells": [
    {
      "cell_type": "markdown",
      "metadata": {
        "id": "view-in-github",
        "colab_type": "text"
      },
      "source": [
        "<a href=\"https://colab.research.google.com/github/naveenreddybheemreddy/ML-LAB/blob/main/textmining.ipynb\" target=\"_parent\"><img src=\"https://colab.research.google.com/assets/colab-badge.svg\" alt=\"Open In Colab\"/></a>"
      ]
    },
    {
      "cell_type": "code",
      "execution_count": null,
      "metadata": {
        "colab": {
          "base_uri": "https://localhost:8080/"
        },
        "id": "c6yvPinJ8jyY",
        "outputId": "6f2e0f6d-f7d8-45fc-ec2b-5b770fcf834c"
      },
      "outputs": [
        {
          "output_type": "stream",
          "name": "stdout",
          "text": [
            "Requirement already satisfied: pyspark in /usr/local/lib/python3.11/dist-packages (3.5.1)\n",
            "Requirement already satisfied: py4j==0.10.9.7 in /usr/local/lib/python3.11/dist-packages (from pyspark) (0.10.9.7)\n"
          ]
        }
      ],
      "source": [
        "!pip install pyspark"
      ]
    },
    {
      "cell_type": "code",
      "source": [
        "!pip install pyspark nltk"
      ],
      "metadata": {
        "colab": {
          "base_uri": "https://localhost:8080/"
        },
        "id": "PIgUhCgG8qpC",
        "outputId": "ba3b0d2f-d6fb-44ff-878e-312332523671"
      },
      "execution_count": null,
      "outputs": [
        {
          "output_type": "stream",
          "name": "stdout",
          "text": [
            "Requirement already satisfied: pyspark in /usr/local/lib/python3.11/dist-packages (3.5.1)\n",
            "Requirement already satisfied: nltk in /usr/local/lib/python3.11/dist-packages (3.9.1)\n",
            "Requirement already satisfied: py4j==0.10.9.7 in /usr/local/lib/python3.11/dist-packages (from pyspark) (0.10.9.7)\n",
            "Requirement already satisfied: click in /usr/local/lib/python3.11/dist-packages (from nltk) (8.2.1)\n",
            "Requirement already satisfied: joblib in /usr/local/lib/python3.11/dist-packages (from nltk) (1.5.1)\n",
            "Requirement already satisfied: regex>=2021.8.3 in /usr/local/lib/python3.11/dist-packages (from nltk) (2024.11.6)\n",
            "Requirement already satisfied: tqdm in /usr/local/lib/python3.11/dist-packages (from nltk) (4.67.1)\n"
          ]
        }
      ]
    },
    {
      "cell_type": "code",
      "source": [
        "import nltk\n",
        "nltk.download('wordnet')\n",
        "nltk.download('omw-1.4')"
      ],
      "metadata": {
        "colab": {
          "base_uri": "https://localhost:8080/"
        },
        "id": "jM36uR8h8tZC",
        "outputId": "a1964760-0ac3-432f-d37a-95ba1f61c947"
      },
      "execution_count": null,
      "outputs": [
        {
          "output_type": "stream",
          "name": "stderr",
          "text": [
            "[nltk_data] Downloading package wordnet to /root/nltk_data...\n",
            "[nltk_data] Downloading package omw-1.4 to /root/nltk_data...\n"
          ]
        },
        {
          "output_type": "execute_result",
          "data": {
            "text/plain": [
              "True"
            ]
          },
          "metadata": {},
          "execution_count": 5
        }
      ]
    },
    {
      "cell_type": "code",
      "source": [
        "# Import necessary PySpark modules\n",
        "from pyspark.sql import SparkSession\n",
        "from pyspark.sql.functions import col\n",
        "from pyspark.ml.feature import Tokenizer, StopWordsRemover, HashingTF, IDF\n",
        "from pyspark.ml.classification import LogisticRegression\n",
        "from pyspark.ml import Pipeline\n",
        "from pyspark.ml.feature import StringIndexer\n",
        "from pyspark.ml.evaluation import MulticlassClassificationEvaluator"
      ],
      "metadata": {
        "id": "1BWKHZIM8w6j"
      },
      "execution_count": null,
      "outputs": []
    },
    {
      "cell_type": "code",
      "source": [
        "#Import NLP Libraries for Stemming & Lemmatization\n",
        "from pyspark.sql.functions import udf\n",
        "from pyspark.sql.types import ArrayType, StringType\n",
        "from nltk.stem import PorterStemmer, WordNetLemmatizer"
      ],
      "metadata": {
        "id": "DQmHTqIo80jq"
      },
      "execution_count": null,
      "outputs": []
    },
    {
      "cell_type": "code",
      "source": [
        "#Define UDFs for Stemming & Lemmatization\n",
        "# Initialize Stemmer and Lemmatizer\n",
        "stemmer = PorterStemmer()\n",
        "lemmatizer = WordNetLemmatizer()\n",
        "\n",
        "# Define UDF for Stemming\n",
        "def stem_words(words):\n",
        "    return [stemmer.stem(word) for word in words]\n",
        "\n",
        "# Define UDF for Lemmatization\n",
        "def lemmatize_words(words):\n",
        "    return [lemmatizer.lemmatize(word) for word in words]\n",
        "\n",
        "# Convert Python functions to PySpark UDFs\n",
        "stem_udf = udf(stem_words, ArrayType(StringType()))\n",
        "lemma_udf = udf(lemmatize_words, ArrayType(StringType()))"
      ],
      "metadata": {
        "id": "X7nSh7hL85Yz"
      },
      "execution_count": null,
      "outputs": []
    },
    {
      "cell_type": "code",
      "source": [
        "# Create a Spark session\n",
        "spark = SparkSession.builder.appName(\"DocumentClassificationTFIDF\").getOrCreate()"
      ],
      "metadata": {
        "id": "fQkGGs-K9Tei"
      },
      "execution_count": null,
      "outputs": []
    },
    {
      "cell_type": "code",
      "source": [
        "# Load & Preprocess Data (Tokenization, Stopword Removal, Stemming, Lemmatization)\n",
        "# Sample dataset\n",
        "data = [(0,\"Cloud computing is becoming increasingly important for businesses\",\"Technology\"),\n",
        " (1, \"Basketball players are preparing for the next tournament\", \"Sports\"),\n",
        " (2,\"Machine learning has revolutionized the way data is processed\",\"Technology\"),\n",
        " (3, \"Political campaigns are gearing up for the upcoming elections\",\"Politics\"),\n",
        " (4, \"The football team has been training hard for the upcoming season\", \"Sports\"),\n",
        " (5,\"International relations are being discussed in diplomatic meetings\",\"Politics\"),\n",
        " (6, \"The president addressed the nation in a live broadcast\", \"Politics\"),\n",
        " (7, \"Tennis players are practicing for the grand slam matches\", \"Sports\"),\n",
        " (8,\"Machine learning has revolutionized the way data is processed\",\"Technology\"),\n",
        " (9, \"Stock trading has become a popular way to build wealth\", \"Finance\"),\n",
        " (10, \"5G technology is expected to significantly improve communication speeds\",\"Technology\"),\n",
        " (11,\"Political campaigns are gearing up for the upcoming elections\",\"Politics\"),\n",
        " (12,\n",
        "  \"Machine learning has revolutionized the way data is processed\",\n",
        "  \"Technology\"),\n",
        " (13,\n",
        "  \"Investors are looking for high-yield bonds in the current market\",\n",
        "  \"Finance\"),\n",
        " (14,\n",
        "  \"Quantum computing holds promise for solving complex problems\",\n",
        "  \"Technology\"),\n",
        " (15,\n",
        "  \"Cloud computing is becoming increasingly important for businesses\",\n",
        "  \"Technology\"),\n",
        " (16, \"The Formula 1 race track is set to host the next grand prix\", \"Sports\"),\n",
        " (17,\n",
        "  \"Financial experts are advising on diversifying investment portfolios\",\n",
        "  \"Finance\"),\n",
        " (18, \"Stock trading has become a popular way to build wealth\", \"Finance\"),\n",
        " (19, \"Stock trading has become a popular way to build wealth\", \"Finance\"),\n",
        " (20,\n",
        "  \"International relations are being discussed in diplomatic meetings\",\n",
        "  \"Politics\"),\n",
        " (21, \"The Formula 1 race track is set to host the next grand prix\", \"Sports\"),\n",
        " (22,\n",
        "  \"Political campaigns are gearing up for the upcoming elections\",\n",
        "  \"Politics\"),\n",
        " (23,\n",
        "  \"Machine learning has revolutionized the way data is processed\",\n",
        "  \"Technology\"),\n",
        " (24,\n",
        "  \"The football team has been training hard for the upcoming season\",\n",
        "  \"Sports\"),\n",
        " (25, \"Tennis players are practicing for the grand slam matches\", \"Sports\"),\n",
        " (26, \"Tennis players are practicing for the grand slam matches\", \"Sports\"),\n",
        " (27,\n",
        "  \"Political campaigns are gearing up for the upcoming elections\",\n",
        "  \"Politics\"),\n",
        " (28,\n",
        "  \"The real estate market has seen significant growth in the past decade\",\n",
        "  \"Finance\"),\n",
        " (29,\n",
        "  \"Financial experts are advising on diversifying investment portfolios\",\n",
        "  \"Finance\")]\n",
        "df = spark.createDataFrame(data, [\"id\", \"text\", \"category\"])\n",
        "\n",
        "# Tokenization\n",
        "tokenizer = Tokenizer(inputCol=\"text\", outputCol=\"words\")\n",
        "df = tokenizer.transform(df)\n",
        "\n",
        "# Stopword Removal\n",
        "remover = StopWordsRemover(inputCol=\"words\", outputCol=\"filtered_words\")\n",
        "df = remover.transform(df)\n",
        "\n",
        "# Apply Stemming\n",
        "df = df.withColumn(\"stemmed_words\", stem_udf(col(\"filtered_words\")))\n",
        "\n",
        "# Apply Lemmatization\n",
        "df = df.withColumn(\"lemmatized_words\", lemma_udf(col(\"filtered_words\")))\n",
        "\n",
        "# Show Results\n",
        "df.select(\"text\", \"filtered_words\", \"stemmed_words\", \"lemmatized_words\").show(truncate=False)"
      ],
      "metadata": {
        "colab": {
          "base_uri": "https://localhost:8080/"
        },
        "id": "pOaVypqy9chi",
        "outputId": "e4b537c6-d32b-47da-e41e-e9f94d40e31d"
      },
      "execution_count": null,
      "outputs": [
        {
          "output_type": "stream",
          "name": "stdout",
          "text": [
            "+-----------------------------------------------------------------------+-------------------------------------------------------------------------+-------------------------------------------------------------+------------------------------------------------------------------------+\n",
            "|text                                                                   |filtered_words                                                           |stemmed_words                                                |lemmatized_words                                                        |\n",
            "+-----------------------------------------------------------------------+-------------------------------------------------------------------------+-------------------------------------------------------------+------------------------------------------------------------------------+\n",
            "|Cloud computing is becoming increasingly important for businesses      |[cloud, computing, becoming, increasingly, important, businesses]        |[cloud, comput, becom, increasingli, import, busi]           |[cloud, computing, becoming, increasingly, important, business]         |\n",
            "|Basketball players are preparing for the next tournament               |[basketball, players, preparing, next, tournament]                       |[basketbal, player, prepar, next, tournament]                |[basketball, player, preparing, next, tournament]                       |\n",
            "|Machine learning has revolutionized the way data is processed          |[machine, learning, revolutionized, way, data, processed]                |[machin, learn, revolution, way, data, process]              |[machine, learning, revolutionized, way, data, processed]               |\n",
            "|Political campaigns are gearing up for the upcoming elections          |[political, campaigns, gearing, upcoming, elections]                     |[polit, campaign, gear, upcom, elect]                        |[political, campaign, gearing, upcoming, election]                      |\n",
            "|The football team has been training hard for the upcoming season       |[football, team, training, hard, upcoming, season]                       |[footbal, team, train, hard, upcom, season]                  |[football, team, training, hard, upcoming, season]                      |\n",
            "|International relations are being discussed in diplomatic meetings     |[international, relations, discussed, diplomatic, meetings]              |[intern, relat, discuss, diplomat, meet]                     |[international, relation, discussed, diplomatic, meeting]               |\n",
            "|The president addressed the nation in a live broadcast                 |[president, addressed, nation, live, broadcast]                          |[presid, address, nation, live, broadcast]                   |[president, addressed, nation, live, broadcast]                         |\n",
            "|Tennis players are practicing for the grand slam matches               |[tennis, players, practicing, grand, slam, matches]                      |[tenni, player, practic, grand, slam, match]                 |[tennis, player, practicing, grand, slam, match]                        |\n",
            "|Machine learning has revolutionized the way data is processed          |[machine, learning, revolutionized, way, data, processed]                |[machin, learn, revolution, way, data, process]              |[machine, learning, revolutionized, way, data, processed]               |\n",
            "|Stock trading has become a popular way to build wealth                 |[stock, trading, become, popular, way, build, wealth]                    |[stock, trade, becom, popular, way, build, wealth]           |[stock, trading, become, popular, way, build, wealth]                   |\n",
            "|5G technology is expected to significantly improve communication speeds|[5g, technology, expected, significantly, improve, communication, speeds]|[5g, technolog, expect, significantli, improv, commun, speed]|[5g, technology, expected, significantly, improve, communication, speed]|\n",
            "|Political campaigns are gearing up for the upcoming elections          |[political, campaigns, gearing, upcoming, elections]                     |[polit, campaign, gear, upcom, elect]                        |[political, campaign, gearing, upcoming, election]                      |\n",
            "|Machine learning has revolutionized the way data is processed          |[machine, learning, revolutionized, way, data, processed]                |[machin, learn, revolution, way, data, process]              |[machine, learning, revolutionized, way, data, processed]               |\n",
            "|Investors are looking for high-yield bonds in the current market       |[investors, looking, high-yield, bonds, current, market]                 |[investor, look, high-yield, bond, current, market]          |[investor, looking, high-yield, bond, current, market]                  |\n",
            "|Quantum computing holds promise for solving complex problems           |[quantum, computing, holds, promise, solving, complex, problems]         |[quantum, comput, hold, promis, solv, complex, problem]      |[quantum, computing, hold, promise, solving, complex, problem]          |\n",
            "|Cloud computing is becoming increasingly important for businesses      |[cloud, computing, becoming, increasingly, important, businesses]        |[cloud, comput, becom, increasingli, import, busi]           |[cloud, computing, becoming, increasingly, important, business]         |\n",
            "|The Formula 1 race track is set to host the next grand prix            |[formula, 1, race, track, set, host, next, grand, prix]                  |[formula, 1, race, track, set, host, next, grand, prix]      |[formula, 1, race, track, set, host, next, grand, prix]                 |\n",
            "|Financial experts are advising on diversifying investment portfolios   |[financial, experts, advising, diversifying, investment, portfolios]     |[financi, expert, advis, diversifi, invest, portfolio]       |[financial, expert, advising, diversifying, investment, portfolio]      |\n",
            "|Stock trading has become a popular way to build wealth                 |[stock, trading, become, popular, way, build, wealth]                    |[stock, trade, becom, popular, way, build, wealth]           |[stock, trading, become, popular, way, build, wealth]                   |\n",
            "|Stock trading has become a popular way to build wealth                 |[stock, trading, become, popular, way, build, wealth]                    |[stock, trade, becom, popular, way, build, wealth]           |[stock, trading, become, popular, way, build, wealth]                   |\n",
            "+-----------------------------------------------------------------------+-------------------------------------------------------------------------+-------------------------------------------------------------+------------------------------------------------------------------------+\n",
            "only showing top 20 rows\n",
            "\n"
          ]
        }
      ]
    },
    {
      "cell_type": "code",
      "source": [
        "# Compute TF-IDF After Preprocessing\n",
        "# Apply HashingTF to the lemmatized words\n",
        "hashingTF = HashingTF(inputCol=\"lemmatized_words\", outputCol=\"raw_features\", numFeatures=500)\n",
        "df = hashingTF.transform(df)\n",
        "\n",
        "# Compute IDF\n",
        "idf = IDF(inputCol=\"raw_features\", outputCol=\"features\")\n",
        "idf_model = idf.fit(df)\n",
        "df = idf_model.transform(df)\n",
        "\n",
        "# Show TF-IDF Features\n",
        "df.select(\"text\", \"features\").show(truncate=False)"
      ],
      "metadata": {
        "colab": {
          "base_uri": "https://localhost:8080/"
        },
        "id": "ed_sC02y-FA5",
        "outputId": "80230c44-55f5-4513-c1a8-cd43a12bd81b"
      },
      "execution_count": null,
      "outputs": [
        {
          "output_type": "stream",
          "name": "stdout",
          "text": [
            "+-----------------------------------------------------------------------+---------------------------------------------------------------------------------------------------------------------------------------------------------------------------------------------------------------------+\n",
            "|text                                                                   |features                                                                                                                                                                                                             |\n",
            "+-----------------------------------------------------------------------+---------------------------------------------------------------------------------------------------------------------------------------------------------------------------------------------------------------------+\n",
            "|Cloud computing is becoming increasingly important for businesses      |(500,[13,287,345,374,467,480],[2.3353749158170367,2.3353749158170367,2.0476928433652555,2.3353749158170367,2.3353749158170367,2.3353749158170367])                                                                   |\n",
            "|Basketball players are preparing for the next tournament               |(500,[63,104,243,273,367],[2.740840023925201,1.488077055429833,2.740840023925201,2.0476928433652555,2.740840023925201])                                                                                              |\n",
            "|Machine learning has revolutionized the way data is processed          |(500,[40,65,72,195,360,391],[1.0360919316867758,1.824549292051046,1.824549292051046,1.824549292051046,1.824549292051046,1.3545456628053103])                                                                         |\n",
            "|Political campaigns are gearing up for the upcoming elections          |(500,[40,132,175,435,461],[1.0360919316867758,1.824549292051046,1.824549292051046,1.824549292051046,1.824549292051046])                                                                                              |\n",
            "|The football team has been training hard for the upcoming season       |(500,[38,40,104,125,358,468],[2.3353749158170367,1.0360919316867758,1.488077055429833,2.3353749158170367,2.3353749158170367,2.3353749158170367])                                                                     |\n",
            "|International relations are being discussed in diplomatic meetings     |(500,[20,60,188,208,479],[2.0476928433652555,2.3353749158170367,2.3353749158170367,2.3353749158170367,2.3353749158170367])                                                                                           |\n",
            "|The president addressed the nation in a live broadcast                 |(500,[14,244,251,306,493],[1.824549292051046,2.740840023925201,2.740840023925201,2.740840023925201,2.740840023925201])                                                                                               |\n",
            "|Tennis players are practicing for the grand slam matches               |(500,[90,94,104,226,293,456],[1.236762627148927,2.0476928433652555,1.488077055429833,2.0476928433652555,1.488077055429833,2.0476928433652555])                                                                       |\n",
            "|Machine learning has revolutionized the way data is processed          |(500,[40,65,72,195,360,391],[1.0360919316867758,1.824549292051046,1.824549292051046,1.824549292051046,1.824549292051046,1.3545456628053103])                                                                         |\n",
            "|Stock trading has become a popular way to build wealth                 |(500,[14,90,148,293,391,490],[1.824549292051046,2.473525254297854,2.0476928433652555,1.488077055429833,1.3545456628053103,2.0476928433652555])                                                                       |\n",
            "|5G technology is expected to significantly improve communication speeds|(500,[20,143,164,171,292,408,482],[2.0476928433652555,2.740840023925201,2.740840023925201,2.740840023925201,2.740840023925201,2.740840023925201,2.740840023925201])                                                  |\n",
            "|Political campaigns are gearing up for the upcoming elections          |(500,[40,132,175,435,461],[1.0360919316867758,1.824549292051046,1.824549292051046,1.824549292051046,1.824549292051046])                                                                                              |\n",
            "|Machine learning has revolutionized the way data is processed          |(500,[40,65,72,195,360,391],[1.0360919316867758,1.824549292051046,1.824549292051046,1.824549292051046,1.824549292051046,1.3545456628053103])                                                                         |\n",
            "|Investors are looking for high-yield bonds in the current market       |(500,[147,157,189,232,248,436],[2.740840023925201,2.3353749158170367,2.740840023925201,2.740840023925201,2.740840023925201,2.740840023925201])                                                                       |\n",
            "|Quantum computing holds promise for solving complex problems           |(500,[53,56,198,333,345,355,389],[2.740840023925201,2.740840023925201,2.740840023925201,2.740840023925201,2.0476928433652555,2.740840023925201,2.740840023925201])                                                   |\n",
            "|Cloud computing is becoming increasingly important for businesses      |(500,[13,287,345,374,467,480],[2.3353749158170367,2.3353749158170367,2.0476928433652555,2.3353749158170367,2.3353749158170367,2.3353749158170367])                                                                   |\n",
            "|The Formula 1 race track is set to host the next grand prix            |(500,[90,95,102,273,342,413,431,452,454],[1.236762627148927,2.3353749158170367,2.3353749158170367,2.0476928433652555,2.3353749158170367,2.3353749158170367,2.3353749158170367,2.3353749158170367,2.3353749158170367])|\n",
            "|Financial experts are advising on diversifying investment portfolios   |(500,[62,93,161,178,407,414],[2.3353749158170367,2.3353749158170367,2.3353749158170367,2.3353749158170367,2.3353749158170367,2.3353749158170367])                                                                    |\n",
            "|Stock trading has become a popular way to build wealth                 |(500,[14,90,148,293,391,490],[1.824549292051046,2.473525254297854,2.0476928433652555,1.488077055429833,1.3545456628053103,2.0476928433652555])                                                                       |\n",
            "|Stock trading has become a popular way to build wealth                 |(500,[14,90,148,293,391,490],[1.824549292051046,2.473525254297854,2.0476928433652555,1.488077055429833,1.3545456628053103,2.0476928433652555])                                                                       |\n",
            "+-----------------------------------------------------------------------+---------------------------------------------------------------------------------------------------------------------------------------------------------------------------------------------------------------------+\n",
            "only showing top 20 rows\n",
            "\n"
          ]
        }
      ]
    },
    {
      "cell_type": "code",
      "source": [
        "#Step 5: Train & Evaluate Logistic Regression Classifier\n",
        "\n",
        "# Convert category labels to numerical labels\n",
        "indexer = StringIndexer(inputCol=\"category\", outputCol=\"label\")\n",
        "df = indexer.fit(df).transform(df)\n",
        "df.select(\"category\", \"label\").distinct().show()\n",
        "# Split Data\n",
        "train_data, test_data = df.randomSplit([0.8, 0.2], seed=42)\n",
        "\n",
        "# Train Logistic Regression Model\n",
        "lr = LogisticRegression(featuresCol=\"features\", labelCol=\"label\")\n",
        "lr_model = lr.fit(train_data)\n",
        "\n",
        "# Predictions\n",
        "predictions = lr_model.transform(test_data)\n",
        "predictions.select(\"text\", \"category\", \"prediction\").show(truncate=False)\n",
        "\n",
        "# Evaluate Model Accuracy\n",
        "evaluator = MulticlassClassificationEvaluator(labelCol=\"label\", predictionCol=\"prediction\", metricName=\"accuracy\")\n",
        "accuracy_tf_idf = evaluator.evaluate(predictions)\n",
        "print(f\"TF-IDF Model Accuracy: {accuracy_tf_idf:.2f}\")"
      ],
      "metadata": {
        "colab": {
          "base_uri": "https://localhost:8080/"
        },
        "id": "utJDzgIg-UKC",
        "outputId": "f1e3fe3d-5ac2-4428-8c7e-4329f9282c0e"
      },
      "execution_count": null,
      "outputs": [
        {
          "output_type": "stream",
          "name": "stdout",
          "text": [
            "+----------+-----+\n",
            "|  category|label|\n",
            "+----------+-----+\n",
            "|    Sports|  0.0|\n",
            "|  Politics|  3.0|\n",
            "|   Finance|  2.0|\n",
            "|Technology|  1.0|\n",
            "+----------+-----+\n",
            "\n",
            "+--------------------------------------------------------------------+----------+----------+\n",
            "|text                                                                |category  |prediction|\n",
            "+--------------------------------------------------------------------+----------+----------+\n",
            "|Machine learning has revolutionized the way data is processed       |Technology|1.0       |\n",
            "|The president addressed the nation in a live broadcast              |Politics  |2.0       |\n",
            "|Machine learning has revolutionized the way data is processed       |Technology|1.0       |\n",
            "|Investors are looking for high-yield bonds in the current market    |Finance   |2.0       |\n",
            "|Cloud computing is becoming increasingly important for businesses   |Technology|1.0       |\n",
            "|International relations are being discussed in diplomatic meetings  |Politics  |3.0       |\n",
            "|The Formula 1 race track is set to host the next grand prix         |Sports    |0.0       |\n",
            "|Financial experts are advising on diversifying investment portfolios|Finance   |2.0       |\n",
            "+--------------------------------------------------------------------+----------+----------+\n",
            "\n",
            "TF-IDF Model Accuracy: 0.88\n"
          ]
        }
      ]
    },
    {
      "cell_type": "code",
      "source": [
        "df.select(\"category\", \"label\").distinct().show()\n"
      ],
      "metadata": {
        "colab": {
          "base_uri": "https://localhost:8080/"
        },
        "id": "72FIhrb7-pIS",
        "outputId": "4829d5e9-f575-4423-bcb9-c3dce1402b54"
      },
      "execution_count": null,
      "outputs": [
        {
          "output_type": "stream",
          "name": "stdout",
          "text": [
            "+----------+-----+\n",
            "|  category|label|\n",
            "+----------+-----+\n",
            "|    Sports|  0.0|\n",
            "|  Politics|  3.0|\n",
            "|   Finance|  2.0|\n",
            "|Technology|  1.0|\n",
            "+----------+-----+\n",
            "\n"
          ]
        }
      ]
    },
    {
      "cell_type": "code",
      "source": [
        "#Train Word2Vec Model\n",
        "#import Word2Vec\n",
        "from pyspark.ml.feature import Word2Vec # Import Word2Vec here\n",
        "word2Vec = Word2Vec(vectorSize=100, minCount=1, inputCol=\"lemmatized_words\", outputCol=\"featuresW2Vector\")\n",
        "word2Vec_model = word2Vec.fit(df)\n",
        "df = word2Vec_model.transform(df)\n",
        "\n",
        "df.select(\"text\", \"featuresW2Vector\").show(truncate=False)"
      ],
      "metadata": {
        "colab": {
          "base_uri": "https://localhost:8080/"
        },
        "id": "3_jTf8Nq-405",
        "outputId": "08ead973-9080-4638-f210-95bea51902a3"
      },
      "execution_count": null,
      "outputs": [
        {
          "output_type": "stream",
          "name": "stdout",
          "text": [
            "+-----------------------------------------------------------------------+------------------------------------------------------------------------------------------------------------------------------------------------------------------------------------------------------------------------------------------------------------------------------------------------------------------------------------------------------------------------------------------------------------------------------------------------------------------------------------------------------------------------------------------------------------------------------------------------------------------------------------------------------------------------------------------------------------------------------------------------------------------------------------------------------------------------------------------------------------------------------------------------------------------------------------------------------------------------------------------------------------------------------------------------------------------------------------------------------------------------------------------------------------------------------------------------------------------------------------------------------------------------------------------------------------------------------------------------------------------------------------------------------------------------------------------------------------------------------------------------------------------------------------------------------------------------------------------------------------------------------------------------------------------------------------------------------------------------------------------------------------------------------------------------------------------------------------------------------------------------------------------------------------------------------------------------------------------------------------------------------------------------------------------------------------------------------------------------------------------------------------------------------------------------------------------------------------------------------------------------------------------------------------------+\n",
            "|text                                                                   |featuresW2Vector                                                                                                                                                                                                                                                                                                                                                                                                                                                                                                                                                                                                                                                                                                                                                                                                                                                                                                                                                                                                                                                                                                                                                                                                                                                                                                                                                                                                                                                                                                                                                                                                                                                                                                                                                                                                                                                                                                                                                                                                                                                                                                                                                                                                                                                                          |\n",
            "+-----------------------------------------------------------------------+------------------------------------------------------------------------------------------------------------------------------------------------------------------------------------------------------------------------------------------------------------------------------------------------------------------------------------------------------------------------------------------------------------------------------------------------------------------------------------------------------------------------------------------------------------------------------------------------------------------------------------------------------------------------------------------------------------------------------------------------------------------------------------------------------------------------------------------------------------------------------------------------------------------------------------------------------------------------------------------------------------------------------------------------------------------------------------------------------------------------------------------------------------------------------------------------------------------------------------------------------------------------------------------------------------------------------------------------------------------------------------------------------------------------------------------------------------------------------------------------------------------------------------------------------------------------------------------------------------------------------------------------------------------------------------------------------------------------------------------------------------------------------------------------------------------------------------------------------------------------------------------------------------------------------------------------------------------------------------------------------------------------------------------------------------------------------------------------------------------------------------------------------------------------------------------------------------------------------------------------------------------------------------------+\n",
            "|Cloud computing is becoming increasingly important for businesses      |[-0.0018072962146410039,0.0013285703219783802,-8.730105376647164E-4,-0.001091149817511905,8.274942520074546E-4,-0.001543346734251827,4.554566985461861E-4,1.7004785089132685E-4,-0.0012306019586200514,7.85941956564784E-4,3.8328416242923896E-4,-6.759586904081516E-5,0.0010740133972528079,-5.156154899547497E-4,-7.019511346394817E-4,-0.0011950681970726387,-8.880245125813719E-4,0.001005897152936086,0.0015664299620160211,-0.0012583801144501194,-4.195046155170227E-4,2.9029824266520638E-5,-8.389840756232539E-4,8.793881861492991E-4,8.86459713607716E-4,7.65652551005284E-4,0.0011777093750424683,-0.0029407255400049808,6.145525840111077E-4,2.396642230451107E-4,2.771470850954453E-4,9.685747209005058E-4,-2.2292750266691047E-4,-4.6953686978667974E-4,-0.001942550055294608,2.464920762577094E-4,-8.230867873256405E-5,9.532147135663156E-4,-0.0012644498783629388,6.400575269556914E-4,4.80018420300136E-4,-0.0015346285848257442,-4.493530626253535E-4,-0.001322189161631589,-9.726948289123053E-4,-9.206216103242089E-4,8.131716943656404E-4,4.29891903574268E-4,-0.0015543854290929933,0.0025585516911329855,0.001449800271075219,-2.136575288507932E-4,-0.0016485622278802716,-0.002416328410618007,-0.0014524553262162954,1.3968753046356142E-4,4.217160555223624E-5,-6.818902523567278E-4,-0.0015284032512378567,-7.011521665845066E-4,3.7998239470956224E-4,-2.921381868266811E-4,5.804278383341928E-4,-2.9618939879583195E-4,-0.0018511739811704804,3.177108495340993E-4,-5.7417991532323257E-5,3.922814697337647E-4,-8.049811197755237E-4,0.0014177741638074317,7.038835707741479E-4,-9.825391850123801E-4,-0.0014055223097481453,-0.0011412725822689631,-0.0011806205535928407,0.0016142670065164566,2.5136417874212685E-4,-0.0018649171688593924,0.0020996379680582322,-7.186870595129827E-4,-8.656057871121448E-4,-0.001619269314687699,0.0011706147633958608,0.0017020962432070519,4.366600381520887E-4,0.0015199636109173298,6.542546082831298E-4,-0.0010415994426390776,-2.56847625375182E-4,9.414142890212436E-4,-3.5273092119799304E-4,5.998407432343811E-4,8.353437685097257E-4,3.189631776573757E-4,0.001398249883398724,-6.061395276143836E-4,2.7770632489894825E-4,-1.0845799018473674E-4,0.0016635220041886591,9.752010616163412E-5]               |\n",
            "|Basketball players are preparing for the next tournament               |[0.00106150908395648,7.192704437329668E-4,-0.001446496933931485,-0.0010029264143668116,-0.0022837840020656585,6.016743136569858E-5,7.803068729117513E-5,0.0015472034690901639,-9.420762769877911E-4,-0.00116265625692904,-0.0021970952744595706,-8.49883712362498E-4,-0.0012623878923477606,7.55250919610262E-5,0.0012241759090102279,-3.875793889164925E-4,-0.0019409189699217677,0.00128620216564741,-0.0011834204313345255,0.0015971705317497254,-4.0860867593437436E-4,-9.618292097002268E-4,-0.0014091121149249375,0.0013416453497484327,0.001496907591354102,4.620894615072757E-4,0.0015835820697247982,-0.0012600849382579328,0.0018679914996027947,2.366494998568669E-4,-1.7256697174161673E-4,-3.7695684004575015E-4,-0.0010380331514170393,-8.747664745897056E-4,-0.0010597712825983763,-5.791893461719156E-4,-2.7455808594822884E-4,4.812773084267974E-4,-0.001668854895979166,-0.0014258795534260573,-0.0016026276396587493,5.224601831287145E-4,-7.693889550864697E-4,-0.0021660711732693016,-5.857001291587949E-4,-0.0018717600876698272,-0.002178947487846017,-8.731379115488381E-4,-0.0012601105845533311,-1.724630012176931E-4,0.0011106808204203844,-5.661136587150395E-4,0.0012605252006324009,-0.0020927415287587793,0.0013151571096386761,0.00130281331948936,4.60825972550083E-4,9.089522762224079E-4,-3.0800922540947796E-4,8.849212201312185E-4,9.523363318294288E-4,-3.2785389585114903E-4,-8.562685805372894E-4,2.653842209838331E-4,-4.7698786947876216E-4,-0.0016305095894495027,0.003309013543184847,-8.669589937198908E-4,6.754498463124037E-4,9.705702541396022E-5,1.8934149411506951E-4,-0.0018148642033338548,-0.0032011982519179584,0.0022850509674753995,6.533887935802341E-5,1.0480678174644709E-4,0.0011517970589920879,-0.002727425040211529,0.0019070530543103814,0.0012035714462399483,-0.002024778723716736,-3.988207026850432E-4,6.189105784869753E-4,6.70865597203374E-4,-3.9311223663389687E-4,-0.0017747427336871624,0.0016874051885679366,-0.001330562261864543,0.0017566850074217655,-0.0020757738617248832,0.0015170489670708776,-9.148928569629789E-4,0.0014770399546250703,0.0017621373990550637,-0.0022698118351399898,0.0017520608846098185,-0.0016531295375898482,-6.696479511447251E-4,0.0014783519320189953,-4.434645874425769E-4] |\n",
            "|Machine learning has revolutionized the way data is processed          |[0.001267065129165227,-7.35443327963973E-4,0.0011202049839387958,2.0748684376788634E-4,-0.0016339861479840085,0.0013994273564700657,-0.001442270091501996,-0.001563125969065974,6.864930716498444E-4,-2.3569627956021577E-5,-0.002920000920615469,-5.202702741371468E-4,-2.1258708632861573E-4,4.3514776431644954E-5,7.443332045416657E-4,-0.0011554807036494215,2.700295105266074E-5,-0.0018787448837732275,-7.134484476409853E-4,-4.305307811591774E-4,-0.0029740307848745333,-8.613639705193539E-4,-0.0022680390005310374,1.506104696697245E-4,-0.0036579468093502023,0.0025528805514719957,-0.0016371829357619085,0.0013913459794518226,-0.0018471489020157605,7.149383127398323E-4,8.6146950100859E-5,1.038920988018314E-4,0.002424329441661636,0.0014309464410568276,0.002223574692228188,-5.243246754010518E-4,0.0014678556908620521,-1.206748808423678E-4,0.0023429556070671724,0.0011770892985320338,-0.0028497885990266996,-0.0026724201549465456,0.002024416326700399,7.940520105573038E-4,-0.0019142222590744495,-7.063808152452111E-5,-4.939541201262424E-4,4.5271635584261577E-4,-0.002639036936064561,-1.6258629815032083E-4,1.0845293096887568E-4,0.0016388539612914124,3.5568968451116234E-4,6.077596141646305E-4,-6.397126417141408E-4,-0.0019726368288199105,-5.338763197263081E-4,6.367928169008034E-4,6.953231059014797E-5,-0.001067053664883133,-9.292327158618718E-4,-0.002274179831147194,0.0019117183449755732,0.0012829987487445274,6.450314540416002E-4,-0.001607500424142927,1.9328036190321046E-4,0.0027812166760365167,0.001679061579731448,-0.0018231430440209806,-1.3810739619657397E-4,-0.0012579039515306552,2.531906551060577E-4,-4.851115615262339E-4,9.65592354380836E-4,6.476050184573978E-4,-1.9728789144816497E-4,-1.2079612740005055E-4,-0.0016051389247877523,-4.552778749105831E-4,0.0014541068618806698,7.896385698889692E-4,-0.0010457710911092968,4.5652806875295937E-4,-7.349751977017149E-4,0.0017876771501808737,-4.010868724435568E-4,1.6941613648668863E-4,-0.0018303308946390946,7.469163780721525E-4,5.166600224886981E-4,0.002046949288342148,-0.0014945202856324613,3.596915242572625E-5,-9.859216515906155E-4,0.001057966267884088,-3.053467080462724E-4,-7.558604314302404E-7,-7.027488512297471E-4,-8.959328430743577E-4]       |\n",
            "|Political campaigns are gearing up for the upcoming elections          |[0.0017522073001600804,0.0013090498454403133,-5.850551882758736E-4,-9.795430582016707E-4,0.0026718211360275746,-0.002865530672715977,0.0031786231906153263,9.78085515089333E-4,-7.120461086742581E-5,8.075452875345946E-4,-9.170189965516329E-4,0.002549368655309081,7.62343331007287E-4,1.2376909144222738E-4,0.001702400262001902,6.641898769885302E-4,0.0022724959068000316,0.003369939234107733,8.106341294478625E-4,5.936844740062953E-4,6.209450773894787E-4,-5.928806756855921E-4,-6.138900993391872E-4,-0.0016012709820643067,6.995565257966519E-4,0.0017100984347052873,8.965915767475963E-4,4.0117677999660376E-4,-0.0014189484063535929,4.5939882402308286E-4,-7.809428032487631E-4,-7.417615270242095E-4,-7.287857471965254E-4,-0.0012959826737642289,0.001962968148291111,4.701871308498085E-4,0.001338191656395793,2.6112262276001275E-4,-8.210380678065122E-4,-3.760280771530234E-4,-0.0018164151581004262,1.3144811091478915E-4,-0.002005863795056939,0.0016020133116398938,-1.473747892305255E-4,-2.2295729722827674E-4,6.05800241464749E-4,-7.07198353484273E-4,6.552579579874874E-5,-0.0014755961219634628,5.153061356395483E-4,0.0010869397083297372,-0.0019530178818968126,0.0013052294845692814,0.0012211156717967242,-0.003850376280024648,-2.89611448533833E-4,0.001990893913898617,-0.0012005871627479793,0.0017994316411204638,-9.809557697735727E-4,-0.002095998253207654,0.0032697907183319333,-0.0026332198642194274,-6.070607636502246E-4,0.0014033458894118667,-1.257858704775572E-4,-2.858776366338134E-4,0.0020414560567587614,9.913518151734024E-4,-0.0014145025983452798,-3.80476750433445E-4,-0.0016339362715370954,3.082930226810277E-4,-0.001876760052982718,-6.861394504085184E-5,-6.223335542017594E-4,2.9655068647116423E-5,-0.001508209586609155,-0.0010132585419341921,0.0020657393615692854,0.0027435069700004534,2.623876091092825E-4,-0.003183945012278855,0.001161387679167092,0.0017315758392214776,-0.0010023814014857636,-9.06896940432489E-4,0.0018045040837023408,0.002616640437190654,-1.4270537067204714E-4,6.772653199732304E-4,0.0014051802441827023,6.027498980984092E-4,0.001619250513613224,9.40426072338596E-4,7.24556832574308E-4,6.73279055627063E-4,-6.595870945602655E-5,-0.0012806088663637639]                          |\n",
            "|The football team has been training hard for the upcoming season       |[4.984160962825019E-4,0.0020306017249822617,-0.0013470094903217007,0.0011627687490545213,0.003571521898265928,6.747641794693966E-4,-5.58345685324942E-5,1.7379678320139647E-4,-6.274465704336762E-5,9.253607519591848E-4,0.0013545404265945156,9.232947437946374E-4,-6.015561812091619E-4,-0.0016523367764117816,-8.337052228550116E-4,-5.522451053063074E-4,-2.580041958329578E-4,-0.001443991731017983,-1.910182521290456E-4,0.0013075703172944486,-3.3952765321979916E-4,-2.1101108480555314E-4,-7.647077436558902E-4,-0.0021461620150754848,-9.625942232863356E-4,-6.938706355867907E-4,-4.8050476470962167E-4,6.322004628600553E-4,-8.043848089679765E-4,-9.913856047205627E-4,0.001860417156422045,0.0015298700285105344,0.002386776419977347,4.846120670360202E-4,0.002336501182677845,-0.0018124017854764436,0.0021436235595804947,-4.819872313722347E-4,9.030248426521817E-4,-0.001377281635844459,6.411898405834411E-4,-0.001967885378689971,-0.001333865763929983,0.002512706273895067,-0.001079224472050555,0.001171437451072658,9.291278838645667E-4,0.0014925296515381583,1.6066470804313818E-4,0.0010501242019624137,0.0012124759086873382,6.054995465092361E-4,-0.003116112124795715,6.124173038794348E-4,0.0013036669394447622,-7.353753850717718E-4,-0.0010867335731745698,-2.1984068249973157E-4,-0.0015629815752618015,9.683554380899295E-4,-2.7911346599770087E-4,-1.963477989193052E-4,-5.190942216965292E-4,1.719440964128201E-5,5.072498606750742E-4,1.7918494995683432E-4,-0.0019343029319619138,4.520935381151503E-4,0.0012905899335843665,-0.001633716912086432,7.676488554958875E-4,0.0022175899745586016,-0.0016293422656114367,9.98962263111025E-4,-9.139522056405742E-4,-5.136740752883876E-4,-0.0021293861645972356,-5.201893945923075E-4,-0.0015869647650106344,8.806345673898855E-5,-3.5011297586606815E-4,2.388171803128595E-6,-0.0019993446961355703,2.1479587303474545E-4,-7.448489777743816E-4,-7.347591502669577E-4,-2.500369446352124E-4,-2.8386923562114436E-4,-4.7778037454312045E-4,-0.0017523634887766093,-4.825256619369611E-4,-0.002689518495268809,9.720952463491509E-4,0.001099955528237236,1.1737910487378636E-4,-1.88242857499669E-4,9.131511008793798E-4,5.601773736998439E-4,-3.0699132184963673E-4,-4.8533872419890634E-4]           |\n",
            "|International relations are being discussed in diplomatic meetings     |[2.838227897882462E-4,-0.0016322319861501455,0.0011433939449489118,3.321751428302378E-5,0.0010838134679943324,-0.002591713717993116,0.0011152144114021211,7.258944679051638E-4,0.0026496450998820366,6.112571572884917E-4,0.0017671509995125234,-0.0010211828077444807,8.060362655669452E-4,-8.963850559666753E-4,-0.0017650477995630354,0.002203621342778206,-0.002060671907383949,7.337801391258836E-4,-6.444113794714213E-4,0.0010885498253628612,0.0026122108363779263,-0.002547411632258445,6.446510087698698E-4,-9.394181892275811E-4,-6.76805735565722E-4,-5.356189532903955E-4,-3.953441308112815E-4,6.64039165712893E-5,1.7905374988913536E-5,-4.137898038607091E-4,0.002846441511064768,0.0023008322576060893,9.91700915619731E-5,0.001016146200709045,8.404932174016722E-4,-0.001516056898981333,0.0018700359156355263,-2.3416792973876002E-4,-0.0023295757011510434,-0.0022201161867997144,-0.0011115654451714363,0.0014576752902939916,-2.071904018521309E-4,-0.0017545007285661995,-5.467638606205582E-4,-2.982651290949434E-4,-7.365421042777598E-4,-3.1929104879964144E-4,-0.0026404818287119273,-5.029317107982934E-4,-0.0013849457318428904,7.723110960796476E-4,7.957109701237641E-4,-0.0018438215367496014,6.216551642864943E-4,0.0027762126628658734,0.0027970789116807285,-2.4677953915670515E-4,0.0029453459312208,-0.0023588461335748434,-0.0012420807935995982,8.339714258909226E-6,-7.69113474234473E-4,0.002105027541983873,-6.287925178185106E-4,-0.0022366669727489352,0.0012250297470018268,-5.683664698153734E-4,3.2367674866691233E-4,0.0013530363678000868,-5.528257832338568E-4,-0.0010075964266434312,0.0012876929715275765,-5.60914957895875E-4,-0.0011602392885833978,-5.279351258650422E-4,3.1734537333250046E-4,0.001366736664203927,-0.0024170606397092343,0.0014210243243724108,-0.0010396763915196062,6.098591926274821E-4,0.0015049406792968512,7.550473557785154E-4,-0.002019614283926785,-1.8786147702485323E-4,-0.0018409039592370393,0.0023801511037163437,-0.0012960016494616867,-3.219780512154103E-4,0.001622967676667031,0.002051705853227759,-0.001057887775823474,0.0015147400554269552,8.165906532667578E-4,-0.0017873562872409822,-8.620073611382396E-4,-0.003406636300496757,6.826473167166115E-4,-8.255361564806663E-4]          |\n",
            "|The president addressed the nation in a live broadcast                 |[-0.0011875691881868989,-4.11346391774714E-4,-2.6324792997911572E-5,0.0016257096314802766,9.008462075144053E-4,5.440960172563791E-4,-0.001526122819632292,-0.0013130232924595476,0.0015372493289760314,-0.002487331710290164,5.785717163234949E-4,0.001278371986700222,-6.287489697569982E-4,-1.74024113221094E-4,-0.0029558400390669705,0.00131135075353086,-0.0012632267898879945,6.760377669706941E-4,-0.0010927991010248662,-7.848383393138647E-5,9.434832783881575E-4,0.001039971219142899,0.0014533984009176494,0.001636749466706533,6.84421751066111E-4,-2.1800635004183279E-4,-0.0019897202437277883,1.3751214792137034E-4,6.438663986045867E-4,0.0012415820820024237,5.996490101097152E-4,-0.002013612780137919,-2.5023354100994766E-4,-1.6222489066421988E-4,-7.345300051383674E-4,0.0015956324292346836,-6.887815077789128E-4,-0.001481169869657606,-0.0012402780004777015,0.0014089314092416317,-8.8838255032897E-4,4.3545754160732034E-4,-0.001598387013655156,-2.4776070640655237E-4,-0.0012014523963443935,-7.453474448993803E-4,-9.386702964548022E-4,-6.900805514305831E-4,-9.49677755124867E-4,0.0017586875706911088,4.503076663240791E-4,0.0016409779331297615,-6.907508010044694E-4,-1.0785977501654999E-4,-7.855751086026431E-4,1.4877469511702658E-4,-8.662200707476586E-4,-2.949301851913333E-4,2.3158346302807332E-4,-7.116682681953535E-5,-7.190070464275777E-4,3.8891490548849107E-4,1.458080136217177E-4,0.0014734072086866946,0.0022664874792099,-7.716953987255693E-5,5.274153780192137E-4,-0.0014158625155687333,-4.533500410616398E-4,1.63944810628891E-4,0.0011843615444377066,5.88239636272192E-5,-9.808154776692391E-4,-3.898853901773691E-5,-0.0019539231900125745,-0.0021419843717012557,-0.0029715179727645594,1.7525979783385994E-4,5.967513308860362E-4,0.0027747204643674196,-7.159890839830041E-4,-0.0029321028850972652,0.0018049686477752402,-0.0015163610354647973,0.001377079333178699,0.0013970300205983222,-0.0014379979271325284,-2.2090146667324008E-4,0.0013077871117275208,-0.001196138997329399,0.001833232422359288,5.391847807914019E-5,0.0016567446058616043,0.0010272194631397724,-2.480073773767799E-4,-5.745287053287029E-4,7.440456189215183E-4,0.003015477840381209,3.118132124654949E-4,-0.0018540183547884226]              |\n",
            "|Tennis players are practicing for the grand slam matches               |[-0.0015677976868270584,3.563886372527728E-4,-0.001801991214354833,9.535321053893615E-4,-0.0025780312619948136,-1.0073865996673703E-4,0.0022183088585734367,9.000935242511332E-4,-2.5608023861423135E-4,-1.2166139155548686E-4,2.6679519457199297E-4,3.4091661533845275E-4,0.0014732220054914553,-0.0019009690343712766,0.001230961720769604,-6.973363391201322E-4,-9.001476088693986E-4,0.00113552533245335,-0.0029737948595235744,-1.8821399862645194E-4,-0.0018067561516848703,-5.677520020981319E-4,0.0011576670901073762,5.585680482909083E-4,-5.299971477749447E-4,0.0015977083191197985,-5.314777663443238E-4,0.0018608016738047202,-9.3954411931918E-4,6.538585100012521E-4,9.03992258827202E-5,3.3380523867284256E-4,-0.0018662076302765247,-0.001755383670873319,-0.0011797521692642476,3.847107873298228E-4,-0.0026698013649972077,4.8777145821077283E-4,-0.001058248890331015,0.0012115233112126589,-0.0018834260602792103,7.373574965943892E-4,0.0011364829066830375,-0.0017208820693970968,-1.3323101059844095E-4,6.600779427875143E-4,-1.1334484831119576E-4,-8.083050609760296E-5,-0.0010389248085023912,-0.001221207824225227,2.5870643366943114E-4,-0.0036947714009632664,9.228251874446869E-4,-6.756733443277577E-4,0.002319195569725707,0.0013913997730317835,-0.001336586351195971,5.288760488231976E-4,6.457066920120269E-4,4.688924430714299E-4,6.318460800684988E-4,1.298300582372273E-4,6.890406366437674E-4,-0.0015913474295909205,-0.0012209897589248915,1.6027652842846388E-4,0.0015869072036972889,-3.0408000748138875E-4,0.0014339317955697575,4.2582447349559516E-5,5.35698685174187E-5,-7.459742579764376E-4,-0.0011278574238531291,7.104780524969101E-4,-9.999599618216355E-4,3.4498989407438785E-4,0.0012506885783902058,-4.981068874864528E-4,-6.347651942633092E-4,0.0029509705539870383,-8.093995857052505E-4,-0.0012615687592187896,-8.983326066906253E-4,-0.001834678075586756,0.0014108318428043276,-3.9352611687111977E-4,-7.583493036994089E-4,1.5671481499642442E-4,7.687019751756452E-5,-0.0017534105378823974,2.7585774660110474E-4,-0.0023024681819758066,-2.816610867739655E-4,5.330900797465195E-4,-0.0015687336272094399,-0.001529768002607549,-1.6482668191504973E-4,-0.001348115666284381,0.0020975995454743193,-0.0017027721429864564]|\n",
            "|Machine learning has revolutionized the way data is processed          |[0.001267065129165227,-7.35443327963973E-4,0.0011202049839387958,2.0748684376788634E-4,-0.0016339861479840085,0.0013994273564700657,-0.001442270091501996,-0.001563125969065974,6.864930716498444E-4,-2.3569627956021577E-5,-0.002920000920615469,-5.202702741371468E-4,-2.1258708632861573E-4,4.3514776431644954E-5,7.443332045416657E-4,-0.0011554807036494215,2.700295105266074E-5,-0.0018787448837732275,-7.134484476409853E-4,-4.305307811591774E-4,-0.0029740307848745333,-8.613639705193539E-4,-0.0022680390005310374,1.506104696697245E-4,-0.0036579468093502023,0.0025528805514719957,-0.0016371829357619085,0.0013913459794518226,-0.0018471489020157605,7.149383127398323E-4,8.6146950100859E-5,1.038920988018314E-4,0.002424329441661636,0.0014309464410568276,0.002223574692228188,-5.243246754010518E-4,0.0014678556908620521,-1.206748808423678E-4,0.0023429556070671724,0.0011770892985320338,-0.0028497885990266996,-0.0026724201549465456,0.002024416326700399,7.940520105573038E-4,-0.0019142222590744495,-7.063808152452111E-5,-4.939541201262424E-4,4.5271635584261577E-4,-0.002639036936064561,-1.6258629815032083E-4,1.0845293096887568E-4,0.0016388539612914124,3.5568968451116234E-4,6.077596141646305E-4,-6.397126417141408E-4,-0.0019726368288199105,-5.338763197263081E-4,6.367928169008034E-4,6.953231059014797E-5,-0.001067053664883133,-9.292327158618718E-4,-0.002274179831147194,0.0019117183449755732,0.0012829987487445274,6.450314540416002E-4,-0.001607500424142927,1.9328036190321046E-4,0.0027812166760365167,0.001679061579731448,-0.0018231430440209806,-1.3810739619657397E-4,-0.0012579039515306552,2.531906551060577E-4,-4.851115615262339E-4,9.65592354380836E-4,6.476050184573978E-4,-1.9728789144816497E-4,-1.2079612740005055E-4,-0.0016051389247877523,-4.552778749105831E-4,0.0014541068618806698,7.896385698889692E-4,-0.0010457710911092968,4.5652806875295937E-4,-7.349751977017149E-4,0.0017876771501808737,-4.010868724435568E-4,1.6941613648668863E-4,-0.0018303308946390946,7.469163780721525E-4,5.166600224886981E-4,0.002046949288342148,-0.0014945202856324613,3.596915242572625E-5,-9.859216515906155E-4,0.001057966267884088,-3.053467080462724E-4,-7.558604314302404E-7,-7.027488512297471E-4,-8.959328430743577E-4]       |\n",
            "|Stock trading has become a popular way to build wealth                 |[3.658898640424013E-5,-0.0023457137368885534,-1.3856413923869174E-4,-1.5285162122121877E-4,3.1762311534423914E-5,5.490904690564742E-4,-0.001990524316040267,0.003046994047638561,7.201350235845894E-4,7.438806517581854E-4,8.834092545190027E-4,-6.597738081057157E-4,-0.001684708919908319,-5.07676599746836E-4,0.0025283162789751907,0.0017610284350147204,-0.0017462944545383963,0.0012318468153742807,4.75935305335692E-4,7.552616111102646E-4,0.0020914159054622617,2.2772452627707805E-4,-3.8294109981507063E-4,0.0013684739658076847,-0.0017911482303004178,8.862338228417294E-4,-3.8512900469608467E-4,5.054706707596779E-5,-1.3360969855317047E-4,-3.9190386555024555E-4,0.0015290011152891175,0.0011119902649495217,-0.0020105919185360627,-5.456492861932409E-4,-9.413486945309809E-4,-8.157643772262548E-4,7.568132963829806E-4,-0.0010062304707909267,-2.781417154307876E-4,0.00223548268799537,4.300706537573465E-4,-0.00160426913914437,5.368458389836762E-4,-1.5009466525433318E-4,0.0017072110204026103,3.891715231085462E-4,5.979763310668723E-4,0.0011551209775331828,5.518966858549641E-4,-0.001315430987493268,7.942109441501088E-4,0.0010748945974877902,2.3732900652768355E-4,-9.829069853627256E-4,-2.596261412171381E-4,0.0010019639739766717,-0.0038839406999094145,4.408398194105497E-4,-6.757773309280829E-4,-0.0010215355848361338,-5.292160037372794E-4,2.2871424776634998E-4,-7.092116263395707E-4,9.074793524632696E-5,4.913968898888145E-4,-0.0012766872283204325,-9.217504910858614E-4,0.003277391511281686,0.0025272355019946447,2.028948802035302E-4,4.3339234045041455E-4,7.622550994191052E-4,-0.0010409602047210293,0.0017381402722094208,9.82196585807417E-4,-0.0018417319099951002,5.635914858430624E-4,-4.8487763186650614E-5,-0.001399960389660139,-8.433753142266401E-4,-2.328264693330441E-4,-4.764702004779662E-5,-0.001172825477884284,1.9023826877985681E-4,-5.476823890993338E-4,0.0013123825940835688,-0.0026460213952564766,-0.0011725545544842523,-1.3778025459032506E-4,0.00296467516039099,-2.732475155166217E-4,-3.788182738000094E-4,-6.023764477244445E-5,-1.7907771481467144E-4,-0.0011415760319713236,-1.8751390286654766E-4,-0.0012251362204551697,-7.929160762744556E-4,-0.0015772796011463339,0.0011076620565810505]        |\n",
            "|5G technology is expected to significantly improve communication speeds|[-4.0786981116980314E-4,-0.0011526515897587939,-7.364421284624508E-4,8.438449752117906E-4,2.321766169188777E-4,1.2645022278385501E-4,0.0018466502369847149,-0.0035007699542412797,-5.667800516156213E-4,1.0477849614939519E-4,4.421181292855181E-4,0.0017055501895291464,2.114233627383198E-5,1.0527622699945432E-6,3.749539693152266E-4,1.5551917853632143E-4,5.214548270617212E-5,-7.83595023676753E-5,5.304902775346168E-4,3.5082379846634073E-4,-0.001288872180988879,-2.733425104192325E-4,0.0015552824354797068,-1.5084748572137739E-4,-3.497665082769734E-5,0.002004805918009619,-0.002206305894235681,0.0013305082767536597,-2.0739597467971697E-6,-7.78015170778547E-4,-2.3619452258571982E-4,-2.629830123623833E-4,8.178091375157237E-4,0.00205906289297023,8.57419945532456E-5,-8.862709759601524E-4,-1.1023939753483448E-4,0.0012341926672628947,-0.0017189702817371913,-5.609248598505344E-4,7.736415344490004E-4,-8.557660871052315E-4,-7.184763962868601E-4,-0.0019376866319882017,6.510566405008181E-4,0.0020831716330056743,0.0012118840656642402,-0.002095523539797536,-0.001347287042465593,0.0010462907916267536,-2.5875625267092668E-5,-1.3870128896087408E-4,-0.0012752965890935489,0.0013436917485835562,-5.686362273991108E-4,-0.0012845706826608095,-0.0011489600042945572,3.528852934583223E-4,0.0014888771610068422,1.1108997776838285E-4,0.0017312477492461246,7.6922241299014E-4,0.0015961803645560782,1.266050717926451E-4,-0.0014380622721676315,0.0011810360343328544,-0.00120532327231818,7.303171067698193E-4,-9.823097040810222E-4,-6.37685796911163E-4,-6.759073418964233E-4,0.0018937554892285594,1.3855932047590613E-4,-7.024658511259725E-4,0.001460023970659157,4.281687350677592E-5,0.002380693086057103,-0.0021724935670915458,-6.224899220147302E-4,-6.683826754202267E-4,9.218124572985938E-4,-0.0013033534695361074,-6.021889982678528E-4,-0.0016492642420676668,1.2352389083909136E-5,0.002162395041003557,-6.146950389458132E-4,-0.002844488955036338,-0.0013153072878984468,-1.8476764047850987E-4,-6.209722736717334E-4,-4.6700973429584077E-4,-0.0019490899285301566,-0.001403301509396572,0.0018408966674802025,0.0010482109625757272,1.1645353931401457E-4,-0.0012928186583199672,0.0017056303331628442,-0.0014979381599654776]       |\n",
            "|Political campaigns are gearing up for the upcoming elections          |[0.0017522073001600804,0.0013090498454403133,-5.850551882758736E-4,-9.795430582016707E-4,0.0026718211360275746,-0.002865530672715977,0.0031786231906153263,9.78085515089333E-4,-7.120461086742581E-5,8.075452875345946E-4,-9.170189965516329E-4,0.002549368655309081,7.62343331007287E-4,1.2376909144222738E-4,0.001702400262001902,6.641898769885302E-4,0.0022724959068000316,0.003369939234107733,8.106341294478625E-4,5.936844740062953E-4,6.209450773894787E-4,-5.928806756855921E-4,-6.138900993391872E-4,-0.0016012709820643067,6.995565257966519E-4,0.0017100984347052873,8.965915767475963E-4,4.0117677999660376E-4,-0.0014189484063535929,4.5939882402308286E-4,-7.809428032487631E-4,-7.417615270242095E-4,-7.287857471965254E-4,-0.0012959826737642289,0.001962968148291111,4.701871308498085E-4,0.001338191656395793,2.6112262276001275E-4,-8.210380678065122E-4,-3.760280771530234E-4,-0.0018164151581004262,1.3144811091478915E-4,-0.002005863795056939,0.0016020133116398938,-1.473747892305255E-4,-2.2295729722827674E-4,6.05800241464749E-4,-7.07198353484273E-4,6.552579579874874E-5,-0.0014755961219634628,5.153061356395483E-4,0.0010869397083297372,-0.0019530178818968126,0.0013052294845692814,0.0012211156717967242,-0.003850376280024648,-2.89611448533833E-4,0.001990893913898617,-0.0012005871627479793,0.0017994316411204638,-9.809557697735727E-4,-0.002095998253207654,0.0032697907183319333,-0.0026332198642194274,-6.070607636502246E-4,0.0014033458894118667,-1.257858704775572E-4,-2.858776366338134E-4,0.0020414560567587614,9.913518151734024E-4,-0.0014145025983452798,-3.80476750433445E-4,-0.0016339362715370954,3.082930226810277E-4,-0.001876760052982718,-6.861394504085184E-5,-6.223335542017594E-4,2.9655068647116423E-5,-0.001508209586609155,-0.0010132585419341921,0.0020657393615692854,0.0027435069700004534,2.623876091092825E-4,-0.003183945012278855,0.001161387679167092,0.0017315758392214776,-0.0010023814014857636,-9.06896940432489E-4,0.0018045040837023408,0.002616640437190654,-1.4270537067204714E-4,6.772653199732304E-4,0.0014051802441827023,6.027498980984092E-4,0.001619250513613224,9.40426072338596E-4,7.24556832574308E-4,6.73279055627063E-4,-6.595870945602655E-5,-0.0012806088663637639]                          |\n",
            "|Machine learning has revolutionized the way data is processed          |[0.001267065129165227,-7.35443327963973E-4,0.0011202049839387958,2.0748684376788634E-4,-0.0016339861479840085,0.0013994273564700657,-0.001442270091501996,-0.001563125969065974,6.864930716498444E-4,-2.3569627956021577E-5,-0.002920000920615469,-5.202702741371468E-4,-2.1258708632861573E-4,4.3514776431644954E-5,7.443332045416657E-4,-0.0011554807036494215,2.700295105266074E-5,-0.0018787448837732275,-7.134484476409853E-4,-4.305307811591774E-4,-0.0029740307848745333,-8.613639705193539E-4,-0.0022680390005310374,1.506104696697245E-4,-0.0036579468093502023,0.0025528805514719957,-0.0016371829357619085,0.0013913459794518226,-0.0018471489020157605,7.149383127398323E-4,8.6146950100859E-5,1.038920988018314E-4,0.002424329441661636,0.0014309464410568276,0.002223574692228188,-5.243246754010518E-4,0.0014678556908620521,-1.206748808423678E-4,0.0023429556070671724,0.0011770892985320338,-0.0028497885990266996,-0.0026724201549465456,0.002024416326700399,7.940520105573038E-4,-0.0019142222590744495,-7.063808152452111E-5,-4.939541201262424E-4,4.5271635584261577E-4,-0.002639036936064561,-1.6258629815032083E-4,1.0845293096887568E-4,0.0016388539612914124,3.5568968451116234E-4,6.077596141646305E-4,-6.397126417141408E-4,-0.0019726368288199105,-5.338763197263081E-4,6.367928169008034E-4,6.953231059014797E-5,-0.001067053664883133,-9.292327158618718E-4,-0.002274179831147194,0.0019117183449755732,0.0012829987487445274,6.450314540416002E-4,-0.001607500424142927,1.9328036190321046E-4,0.0027812166760365167,0.001679061579731448,-0.0018231430440209806,-1.3810739619657397E-4,-0.0012579039515306552,2.531906551060577E-4,-4.851115615262339E-4,9.65592354380836E-4,6.476050184573978E-4,-1.9728789144816497E-4,-1.2079612740005055E-4,-0.0016051389247877523,-4.552778749105831E-4,0.0014541068618806698,7.896385698889692E-4,-0.0010457710911092968,4.5652806875295937E-4,-7.349751977017149E-4,0.0017876771501808737,-4.010868724435568E-4,1.6941613648668863E-4,-0.0018303308946390946,7.469163780721525E-4,5.166600224886981E-4,0.002046949288342148,-0.0014945202856324613,3.596915242572625E-5,-9.859216515906155E-4,0.001057966267884088,-3.053467080462724E-4,-7.558604314302404E-7,-7.027488512297471E-4,-8.959328430743577E-4]       |\n",
            "|Investors are looking for high-yield bonds in the current market       |[1.7544656778530526E-4,-7.935883089279135E-5,-0.0013636505464091897,-0.0013841063822231565,9.744746227321835E-4,8.364211632094035E-4,-2.6193232042714953E-4,3.2572537505378324E-4,-5.436466017272323E-4,-0.0012161689810454845,4.5305409003049135E-4,4.539216121581072E-4,-6.636521526767561E-4,9.355959676516552E-4,3.3108315741022426E-4,3.359172066363195E-4,-0.0010938183040707372,-0.0010279621249840905,9.97119069021816E-4,1.4719463069923222E-4,0.0018289976845456597,2.728961020087202E-4,9.289267860973874E-4,-3.1274400438026834E-4,0.0024013250755767026,-0.00148021022323519,0.0020564375736285,-0.0027582129502358534,0.0017903860619602103,7.159682378793756E-4,-4.3907854706048965E-4,3.3439860756819445E-4,-0.0013758829397071772,-4.5910978224128485E-4,3.081189740138749E-4,-0.0023610152905651676,0.0012648991202392303,8.577513654017821E-4,-0.0014482713522738777,-0.0012503939603144922,0.001846910163294524,1.1275931077155595E-4,-0.0018368151359027252,8.571612027784188E-4,5.952844900699953E-4,-0.0013067478915521253,-0.0016037316721243162,0.0011899941261314475,6.480091445458431E-4,-0.0015439224953297526,0.0011177559087324576,0.0012562969350256026,0.0010542416615256418,3.5812787245959044E-5,-8.61616611170272E-4,3.150177653878927E-4,-1.8191495716261366E-4,-4.855814137651274E-4,-0.002215550523639346,8.35230768037339E-4,0.0025151131758320844,1.1529488256201148E-4,-0.0010841851665948827,-5.146604016772471E-4,4.121134600912531E-4,-0.0012256104964762926,6.779188406653702E-4,-0.0011843884616003681,6.06346041119347E-4,0.0011170005503421028,-4.6143405294666684E-4,-4.746362440831338E-4,-5.293416519028444E-4,-2.9553774947999045E-4,-0.0013270297446676218,8.476103054514775E-5,-1.355653900342683E-4,6.565409106163618E-4,-7.845845054058978E-5,7.372023537755013E-4,-9.093307113895813E-4,0.0013949907928084333,7.39472423447296E-4,-3.743641233692566E-5,0.0024727771524339914,-0.0012092308121888586,-0.0011247519481306274,-7.227889048711706E-4,0.001389913925474199,0.0010564843929993608,-1.3013306306675076E-4,-1.703443316121896E-5,0.002101274284844597,9.510750775613511E-4,-0.0012006125277063497,-7.00642674928531E-4,-0.0012663249887433872,-2.2402192310740549E-4,8.487556721471871E-4,3.543826363359888E-4]         |\n",
            "|Quantum computing holds promise for solving complex problems           |[6.299319688228673E-4,8.548268732348723E-4,0.0014488147239067723,-0.0010300116264261305,0.0019334076288422303,0.001324138928404344,-8.718601436287696E-4,-8.613725658506155E-4,-9.194059031350271E-4,9.387052767643971E-4,-0.0012820049055985042,-0.001393019820430449,-0.0011554638414444135,1.5717069618403912E-4,5.95660915548381E-4,0.0016571463202126324,-0.0013251107344071247,0.0016203461590131544,0.0011191286284883972,-7.205641361776673E-4,2.134357179914202E-4,5.684251196466253E-4,3.0360117255310925E-4,8.811785706451961E-4,5.119666270080155E-4,7.677641239882047E-4,2.784399714853082E-4,-9.051554334291723E-4,2.6496967932741555E-4,0.0016317372044016207,-3.41507579183339E-4,-8.347735316160002E-4,-0.0012759539032621042,2.2885411908646347E-4,-0.001890604363455038,-6.588385274101581E-4,-0.0020955877927398042,0.0010719668186668838,2.368950455482783E-5,0.0013849821324194115,-9.728891226196927E-4,5.936962926560746E-4,-3.534930957747357E-4,-4.028116527479142E-4,5.643906978158546E-4,-0.001229331681055815,-0.0011881441501567938,7.308207651866333E-4,-5.347321275621653E-4,0.0014087848914121942,-1.605231747297304E-5,0.0024390393061496846,3.333878703415394E-4,-9.924715122906491E-4,-8.135672459112746E-4,-2.363241884657847E-4,-5.50123251741752E-4,-2.7995481754520108E-5,-0.0019172068360993372,3.133459249511361E-4,-8.391576286937509E-4,-0.0013338898258682872,-8.259507927245327E-4,-0.002265142659390611,8.480685563491923E-4,7.025550751547727E-5,-2.1810815503288592E-4,-9.158496915396036E-4,-0.0012921778418655905,0.0011331048013484438,-8.045466633380523E-4,4.2208323169948665E-4,-7.653242500964552E-4,-0.0010400560110740895,-0.0010816728089204323,-6.548448831641248E-4,6.381832520543997E-4,-0.0015705768102114753,0.001517979469749012,0.0012157936746786746,-3.6424224630796483E-4,-1.566782427419509E-4,6.164488066653055E-4,8.155501792706282E-4,-5.223597732505628E-4,8.14948185247236E-4,0.0010364644445611962,1.705649441906384E-4,-3.077998241808797E-4,-3.1101259602499856E-5,1.648128465084093E-4,-6.727585652177887E-4,9.356145060987078E-6,3.926306297736508E-4,-0.001115923364912825,3.3609058508383375E-4,8.978663078908409E-5,-7.006865967663803E-4,6.913445436761581E-4,3.701813610470188E-4]                   |\n",
            "|Cloud computing is becoming increasingly important for businesses      |[-0.0018072962146410039,0.0013285703219783802,-8.730105376647164E-4,-0.001091149817511905,8.274942520074546E-4,-0.001543346734251827,4.554566985461861E-4,1.7004785089132685E-4,-0.0012306019586200514,7.85941956564784E-4,3.8328416242923896E-4,-6.759586904081516E-5,0.0010740133972528079,-5.156154899547497E-4,-7.019511346394817E-4,-0.0011950681970726387,-8.880245125813719E-4,0.001005897152936086,0.0015664299620160211,-0.0012583801144501194,-4.195046155170227E-4,2.9029824266520638E-5,-8.389840756232539E-4,8.793881861492991E-4,8.86459713607716E-4,7.65652551005284E-4,0.0011777093750424683,-0.0029407255400049808,6.145525840111077E-4,2.396642230451107E-4,2.771470850954453E-4,9.685747209005058E-4,-2.2292750266691047E-4,-4.6953686978667974E-4,-0.001942550055294608,2.464920762577094E-4,-8.230867873256405E-5,9.532147135663156E-4,-0.0012644498783629388,6.400575269556914E-4,4.80018420300136E-4,-0.0015346285848257442,-4.493530626253535E-4,-0.001322189161631589,-9.726948289123053E-4,-9.206216103242089E-4,8.131716943656404E-4,4.29891903574268E-4,-0.0015543854290929933,0.0025585516911329855,0.001449800271075219,-2.136575288507932E-4,-0.0016485622278802716,-0.002416328410618007,-0.0014524553262162954,1.3968753046356142E-4,4.217160555223624E-5,-6.818902523567278E-4,-0.0015284032512378567,-7.011521665845066E-4,3.7998239470956224E-4,-2.921381868266811E-4,5.804278383341928E-4,-2.9618939879583195E-4,-0.0018511739811704804,3.177108495340993E-4,-5.7417991532323257E-5,3.922814697337647E-4,-8.049811197755237E-4,0.0014177741638074317,7.038835707741479E-4,-9.825391850123801E-4,-0.0014055223097481453,-0.0011412725822689631,-0.0011806205535928407,0.0016142670065164566,2.5136417874212685E-4,-0.0018649171688593924,0.0020996379680582322,-7.186870595129827E-4,-8.656057871121448E-4,-0.001619269314687699,0.0011706147633958608,0.0017020962432070519,4.366600381520887E-4,0.0015199636109173298,6.542546082831298E-4,-0.0010415994426390776,-2.56847625375182E-4,9.414142890212436E-4,-3.5273092119799304E-4,5.998407432343811E-4,8.353437685097257E-4,3.189631776573757E-4,0.001398249883398724,-6.061395276143836E-4,2.7770632489894825E-4,-1.0845799018473674E-4,0.0016635220041886591,9.752010616163412E-5]               |\n",
            "|The Formula 1 race track is set to host the next grand prix            |[0.0019148562633846367,0.0018758813643621074,-8.578443278868992E-4,0.0012847321648021331,-0.0012952400882366216,8.009260216365671E-4,6.655947169444213E-4,0.00104780481584991,-5.886581752242313E-4,-3.712324865369333E-4,-8.821753177067471E-4,2.765071605810792E-4,5.425581669745345E-4,-0.001512853040670355,-1.0999679539559616E-4,-0.0020794617012143135,-9.451959215059307E-4,0.0017935074687961282,2.3970508320619247E-4,3.697087975322372E-4,8.703506900928915E-4,-0.0010250255743610775,-2.202980645557141E-4,9.710288787674572E-4,9.703735057781967E-4,-9.78706656799962E-4,2.3711370562927588E-4,4.8079198071112234E-4,0.0013482014037435874,8.750204902349246E-4,6.132846546178269E-4,6.805444394962654E-5,2.895151006264819E-4,4.582728660251531E-4,-8.183927202480845E-4,0.0010163513555501897,6.57904802614616E-4,0.002065049746306613,-0.001030396655551158,2.2155039510430975E-4,-0.0014914253107336762,-3.4755915274015727E-4,-0.0016379492654879058,-3.1030285430865153E-4,-3.619592753238976E-4,-0.0013854637444536719,-4.622692099979354E-4,0.001475664774867861,-9.233177762426849E-5,-0.0016814728861997232,-0.0027160213018457093,-6.397969474265765E-4,6.075632926594052E-4,-7.474719701955715E-4,-8.105436960856119E-4,-1.0684480609294647E-4,2.609001401449657E-4,-3.636296476340956E-4,-7.451154912511507E-5,-9.518490826141917E-4,7.500597146443195E-4,0.001595811229587222,9.736794034122592E-4,-0.0013383906011262701,-7.401504877230359E-4,-0.0015746647647271552,7.926883376462178E-6,-2.9609164145464695E-4,-0.0010703511846562226,-4.5337201219000336E-4,2.8369022442752286E-4,-0.0014542293372667497,-4.2171695127358864E-4,-5.785617071928249E-5,0.002031510333634085,4.6841786307696666E-4,-0.0015593356414077182,-1.3077589553884333E-4,-8.173538630621301E-4,8.044593980432384E-4,6.669283741050296E-4,8.914102767852859E-4,3.6561027486135974E-4,9.822527321779893E-4,5.9428204420126145E-5,0.0012504005798190418,-2.978314571211942E-4,-8.2885478574705E-4,-6.2833480640418E-4,3.0562418073208793E-4,6.910941253105798E-5,-5.348952577656342E-4,-6.327106117775353E-4,0.001347736390824947,-0.0010299220965761277,2.3689951154261103E-4,-2.76211147946823E-4,-7.870420813560486E-5,4.538565149737729E-5,2.5707660016552027E-4]                  |\n",
            "|Financial experts are advising on diversifying investment portfolios   |[-0.00306698284111917,-0.0010779270948357103,9.49138188540625E-4,1.208114845212549E-4,-0.0018398075674970944,-0.0011967928488350783,1.3175565982237458E-4,-0.0012106199477178354,-7.212090664931262E-4,0.0011682885233312845,-0.0017306094426506509,-0.0013047632140417893,0.0010435712077499677,0.0017786225265202422,-3.9463004213757813E-4,-0.0018597580346977338,-2.2963104614367086E-4,0.0013048925156908808,0.002156821800781472,2.1765499453370768E-4,2.4858994099001086E-4,-1.1449346008400121E-4,-8.03671900939662E-5,0.0015122636395972222,4.4654037143724656E-4,0.0025865123995269337,0.0012638142895108708,-0.00166876496708331,0.0016790864756330848,-0.0013268704545528938,0.001294156053821401,4.38662808543692E-4,-0.0016278531984426081,8.668394293636084E-4,-0.0016215890063904226,0.002667151488518963,-2.0210819396500784E-4,-8.625692377487818E-4,2.3683732918774086E-4,-3.30796077226599E-5,-4.4193718349561095E-4,0.0033727042415800192,-9.469514237328742E-4,0.0019364469917491078,-7.159783660123745E-4,-5.83146553253755E-4,1.5618229129662115E-4,0.001276327297091484,-2.831920670966307E-4,-0.0018136242870241404,-0.002116870105965063,-1.0034069903971006E-4,-7.38381058908999E-4,-3.6194925511760323E-4,-5.12122904183343E-4,-0.0017988686110281074,0.0017515940902133782,0.0013770713776466437,7.026021097165842E-4,-0.0012440604720419892,1.9593449542298913E-4,-0.001869040948804468,8.034408189511547E-4,-0.0018070444445280978,9.44303586341751E-4,-1.6573710793939728E-4,-8.987938781501725E-5,0.001511561645505329,-0.0018420446043213208,-3.887019435448261E-4,0.0014829504070803523,-1.6425863820283362E-4,3.986032364385513E-4,-0.0020639313503731196,-2.0922017089712122E-4,3.781112245633267E-4,1.566747232573107E-4,6.941319055234392E-4,0.0010784981520070383,-0.0020972755349551635,-1.1937808206615348E-4,0.0015562332312886913,-7.073783854139037E-5,3.356873154795418E-5,8.791431173449382E-5,0.001989223121199757,8.113317502041657E-4,-3.747289107802013E-4,-8.026455664852012E-4,-0.0011133160296594724,-0.001235447940416634,-8.246371289715171E-4,-9.793465305847349E-4,-3.0534438944111265E-5,0.0016073820103580752,0.0018941718105149143,-6.204640740179457E-4,-4.1520850209053606E-4,0.0013836746608527997,-5.255953122590047E-4]|\n",
            "|Stock trading has become a popular way to build wealth                 |[3.658898640424013E-5,-0.0023457137368885534,-1.3856413923869174E-4,-1.5285162122121877E-4,3.1762311534423914E-5,5.490904690564742E-4,-0.001990524316040267,0.003046994047638561,7.201350235845894E-4,7.438806517581854E-4,8.834092545190027E-4,-6.597738081057157E-4,-0.001684708919908319,-5.07676599746836E-4,0.0025283162789751907,0.0017610284350147204,-0.0017462944545383963,0.0012318468153742807,4.75935305335692E-4,7.552616111102646E-4,0.0020914159054622617,2.2772452627707805E-4,-3.8294109981507063E-4,0.0013684739658076847,-0.0017911482303004178,8.862338228417294E-4,-3.8512900469608467E-4,5.054706707596779E-5,-1.3360969855317047E-4,-3.9190386555024555E-4,0.0015290011152891175,0.0011119902649495217,-0.0020105919185360627,-5.456492861932409E-4,-9.413486945309809E-4,-8.157643772262548E-4,7.568132963829806E-4,-0.0010062304707909267,-2.781417154307876E-4,0.00223548268799537,4.300706537573465E-4,-0.00160426913914437,5.368458389836762E-4,-1.5009466525433318E-4,0.0017072110204026103,3.891715231085462E-4,5.979763310668723E-4,0.0011551209775331828,5.518966858549641E-4,-0.001315430987493268,7.942109441501088E-4,0.0010748945974877902,2.3732900652768355E-4,-9.829069853627256E-4,-2.596261412171381E-4,0.0010019639739766717,-0.0038839406999094145,4.408398194105497E-4,-6.757773309280829E-4,-0.0010215355848361338,-5.292160037372794E-4,2.2871424776634998E-4,-7.092116263395707E-4,9.074793524632696E-5,4.913968898888145E-4,-0.0012766872283204325,-9.217504910858614E-4,0.003277391511281686,0.0025272355019946447,2.028948802035302E-4,4.3339234045041455E-4,7.622550994191052E-4,-0.0010409602047210293,0.0017381402722094208,9.82196585807417E-4,-0.0018417319099951002,5.635914858430624E-4,-4.8487763186650614E-5,-0.001399960389660139,-8.433753142266401E-4,-2.328264693330441E-4,-4.764702004779662E-5,-0.001172825477884284,1.9023826877985681E-4,-5.476823890993338E-4,0.0013123825940835688,-0.0026460213952564766,-0.0011725545544842523,-1.3778025459032506E-4,0.00296467516039099,-2.732475155166217E-4,-3.788182738000094E-4,-6.023764477244445E-5,-1.7907771481467144E-4,-0.0011415760319713236,-1.8751390286654766E-4,-0.0012251362204551697,-7.929160762744556E-4,-0.0015772796011463339,0.0011076620565810505]        |\n",
            "|Stock trading has become a popular way to build wealth                 |[3.658898640424013E-5,-0.0023457137368885534,-1.3856413923869174E-4,-1.5285162122121877E-4,3.1762311534423914E-5,5.490904690564742E-4,-0.001990524316040267,0.003046994047638561,7.201350235845894E-4,7.438806517581854E-4,8.834092545190027E-4,-6.597738081057157E-4,-0.001684708919908319,-5.07676599746836E-4,0.0025283162789751907,0.0017610284350147204,-0.0017462944545383963,0.0012318468153742807,4.75935305335692E-4,7.552616111102646E-4,0.0020914159054622617,2.2772452627707805E-4,-3.8294109981507063E-4,0.0013684739658076847,-0.0017911482303004178,8.862338228417294E-4,-3.8512900469608467E-4,5.054706707596779E-5,-1.3360969855317047E-4,-3.9190386555024555E-4,0.0015290011152891175,0.0011119902649495217,-0.0020105919185360627,-5.456492861932409E-4,-9.413486945309809E-4,-8.157643772262548E-4,7.568132963829806E-4,-0.0010062304707909267,-2.781417154307876E-4,0.00223548268799537,4.300706537573465E-4,-0.00160426913914437,5.368458389836762E-4,-1.5009466525433318E-4,0.0017072110204026103,3.891715231085462E-4,5.979763310668723E-4,0.0011551209775331828,5.518966858549641E-4,-0.001315430987493268,7.942109441501088E-4,0.0010748945974877902,2.3732900652768355E-4,-9.829069853627256E-4,-2.596261412171381E-4,0.0010019639739766717,-0.0038839406999094145,4.408398194105497E-4,-6.757773309280829E-4,-0.0010215355848361338,-5.292160037372794E-4,2.2871424776634998E-4,-7.092116263395707E-4,9.074793524632696E-5,4.913968898888145E-4,-0.0012766872283204325,-9.217504910858614E-4,0.003277391511281686,0.0025272355019946447,2.028948802035302E-4,4.3339234045041455E-4,7.622550994191052E-4,-0.0010409602047210293,0.0017381402722094208,9.82196585807417E-4,-0.0018417319099951002,5.635914858430624E-4,-4.8487763186650614E-5,-0.001399960389660139,-8.433753142266401E-4,-2.328264693330441E-4,-4.764702004779662E-5,-0.001172825477884284,1.9023826877985681E-4,-5.476823890993338E-4,0.0013123825940835688,-0.0026460213952564766,-0.0011725545544842523,-1.3778025459032506E-4,0.00296467516039099,-2.732475155166217E-4,-3.788182738000094E-4,-6.023764477244445E-5,-1.7907771481467144E-4,-0.0011415760319713236,-1.8751390286654766E-4,-0.0012251362204551697,-7.929160762744556E-4,-0.0015772796011463339,0.0011076620565810505]        |\n",
            "+-----------------------------------------------------------------------+------------------------------------------------------------------------------------------------------------------------------------------------------------------------------------------------------------------------------------------------------------------------------------------------------------------------------------------------------------------------------------------------------------------------------------------------------------------------------------------------------------------------------------------------------------------------------------------------------------------------------------------------------------------------------------------------------------------------------------------------------------------------------------------------------------------------------------------------------------------------------------------------------------------------------------------------------------------------------------------------------------------------------------------------------------------------------------------------------------------------------------------------------------------------------------------------------------------------------------------------------------------------------------------------------------------------------------------------------------------------------------------------------------------------------------------------------------------------------------------------------------------------------------------------------------------------------------------------------------------------------------------------------------------------------------------------------------------------------------------------------------------------------------------------------------------------------------------------------------------------------------------------------------------------------------------------------------------------------------------------------------------------------------------------------------------------------------------------------------------------------------------------------------------------------------------------------------------------------------------------------------------------------------------+\n",
            "only showing top 20 rows\n",
            "\n"
          ]
        }
      ]
    },
    {
      "cell_type": "code",
      "source": [
        "#Step 7: Train & Evaluate Logistic Regression Classifier on Word2Vec Features"
      ],
      "metadata": {
        "id": "Ibn31n_E_C_I"
      },
      "execution_count": null,
      "outputs": []
    },
    {
      "cell_type": "code",
      "source": [
        "# Split Data\n",
        "train_data_w2v, test_data_w2v = df.randomSplit([0.8, 0.2], seed=42)\n",
        "\n",
        "# Train Model\n",
        "lr_w2v = LogisticRegression(featuresCol=\"featuresW2Vector\", labelCol=\"label\")\n",
        "lr_w2v_model = lr_w2v.fit(train_data_w2v)\n",
        "\n",
        "# Predictions\n",
        "predictions_w2v = lr_w2v_model.transform(test_data_w2v)\n",
        "predictions_w2v.select(\"text\", \"category\", \"prediction\").show(truncate=False)\n",
        "\n",
        "# Evaluate Model Accuracy\n",
        "accuracy_w2v = evaluator.evaluate(predictions_w2v)\n",
        "print(f\"Word2Vec Model Accuracy: {accuracy_w2v:.2f}\")"
      ],
      "metadata": {
        "colab": {
          "base_uri": "https://localhost:8080/"
        },
        "id": "GiJ758ar_Hch",
        "outputId": "6809066e-0b20-4682-b400-09e0e814d4a4"
      },
      "execution_count": null,
      "outputs": [
        {
          "output_type": "stream",
          "name": "stdout",
          "text": [
            "+--------------------------------------------------------------------+----------+----------+\n",
            "|text                                                                |category  |prediction|\n",
            "+--------------------------------------------------------------------+----------+----------+\n",
            "|Machine learning has revolutionized the way data is processed       |Technology|1.0       |\n",
            "|The president addressed the nation in a live broadcast              |Politics  |0.0       |\n",
            "|Machine learning has revolutionized the way data is processed       |Technology|1.0       |\n",
            "|Investors are looking for high-yield bonds in the current market    |Finance   |2.0       |\n",
            "|Cloud computing is becoming increasingly important for businesses   |Technology|1.0       |\n",
            "|International relations are being discussed in diplomatic meetings  |Politics  |3.0       |\n",
            "|The Formula 1 race track is set to host the next grand prix         |Sports    |0.0       |\n",
            "|Financial experts are advising on diversifying investment portfolios|Finance   |2.0       |\n",
            "+--------------------------------------------------------------------+----------+----------+\n",
            "\n",
            "Word2Vec Model Accuracy: 0.88\n"
          ]
        }
      ]
    }
  ]
}